{
 "cells": [
  {
   "cell_type": "code",
   "execution_count": 2,
   "metadata": {},
   "outputs": [],
   "source": [
    "from llm.chatbot import chat_model\n",
    "from langchain.schema.messages import HumanMessage, SystemMessage"
   ]
  },
  {
   "cell_type": "code",
   "execution_count": 4,
   "metadata": {},
   "outputs": [
    {
     "data": {
      "text/plain": [
       "\"Medicaid managed care is a system where state Medicaid programs contract with managed care organizations (MCOs) to provide healthcare services to Medicaid enrollees. In this model, the MCOs assume the risk and responsibility for providing a defined set of healthcare services to enrolled Medicaid beneficiaries, often in exchange for a fixed monthly payment per member.\\n\\nUnder Medicaid managed care, enrollees typically choose a primary care provider (PCP) from a network of participating healthcare providers who coordinate their care. The MCOs manage the delivery of healthcare services, including authorizing and paying for medically necessary services, coordinating specialty care, and emphasizing preventive care.\\n\\nMedicaid managed care plans can vary in their specific designs and may include models such as:\\n\\n1. Health Maintenance Organizations (HMOs): Enrollees typically need to seek care from providers within the HMO's network, except in emergencies.\\n\\n2. Preferred Provider Organizations (PPOs): Enrollees can use providers outside the network but typically pay more for those services.\\n\\n3. Primary Care Case Management (PCCM) Models: These plans emphasize the role of the primary care provider in coordinating and managing the enrollee's care.\\n\\nThe goal of Medicaid managed care is to improve access to healthcare services, enhance care coordination, and potentially reduce costs for Medicaid programs by emphasizing preventive care and managing the utilization of healthcare services.\""
      ]
     },
     "execution_count": 4,
     "metadata": {},
     "output_type": "execute_result"
    }
   ],
   "source": [
    "messages = [\n",
    "     SystemMessage(\n",
    "         content=\"\"\"You're an assistant knowledgeable about\n",
    "         healthcare. Only answer healthcare-related questions.\"\"\"\n",
    "     ),\n",
    "     HumanMessage(content=\"What is Medicaid managed care?\"),\n",
    "]\n",
    "chat_model.invoke(messages).content"
   ]
  },
  {
   "cell_type": "code",
   "execution_count": 11,
   "metadata": {},
   "outputs": [
    {
     "data": {
      "text/plain": [
       "[SystemMessage(content=\"Your job is to use patient\\nreviews to answer questions about their experience at a\\nhospital. Use the following context to answer questions.\\nBe as detailed as possible, but don't make up any information\\nthat's not from the context. If you don't know an answer, say\\nyou don't know.\\n\\nI had a great stay!\\n\"),\n",
       " HumanMessage(content='Did anyone have a positive experience?')]"
      ]
     },
     "execution_count": 11,
     "metadata": {},
     "output_type": "execute_result"
    }
   ],
   "source": [
    "from langchain.prompts import (\n",
    "    PromptTemplate,\n",
    "    SystemMessagePromptTemplate,\n",
    "    HumanMessagePromptTemplate,\n",
    "    ChatPromptTemplate,\n",
    ")\n",
    "\n",
    "review_system_template_str = \"\"\"Your job is to use patient\n",
    "reviews to answer questions about their experience at a\n",
    "hospital. Use the following context to answer questions.\n",
    "Be as detailed as possible, but don't make up any information\n",
    "that's not from the context. If you don't know an answer, say\n",
    "you don't know.\n",
    "\n",
    "{context}\n",
    "\"\"\"\n",
    "\n",
    "review_system_prompt = SystemMessagePromptTemplate(\n",
    "    prompt=PromptTemplate(\n",
    "        input_variables=[\"context\"], template=review_system_template_str\n",
    "    )\n",
    ")\n",
    "\n",
    "review_human_prompt = HumanMessagePromptTemplate(\n",
    "    prompt=PromptTemplate(\n",
    "        input_variables=[\"question\"], template=\"{question}\"\n",
    "    )\n",
    ")\n",
    "\n",
    "messages = [review_system_prompt, review_human_prompt]\n",
    "review_prompt_template = ChatPromptTemplate(\n",
    "    input_variables=[\"context\", \"question\"],\n",
    "    messages=messages,\n",
    ")\n",
    "context = \"I had a great stay!\"\n",
    "question = \"Did anyone have a positive experience?\"\n",
    "\n",
    "review_prompt_template.format_messages(context=context, question=question)"
   ]
  },
  {
   "cell_type": "code",
   "execution_count": 17,
   "metadata": {},
   "outputs": [],
   "source": [
    "import os\n",
    "import pandas as pd\n",
    "from dotenv import load_dotenv, find_dotenv\n",
    "\n",
    "\n",
    "load_dotenv(find_dotenv())\n",
    "COHERE_API_KEY = os.environ[\"COHERE_API_KEY\"]\n",
    "REVIEWS_CSV_PATH = \"data/reviews.csv\"\n",
    "REVIEWS_CHROMA_PATH = \"llm/chroma_data\"\n",
    "\n",
    "\n",
    "# loader = CSVLoader(file_path=REVIEWS_CSV_PATH, source_column=\"review\")\n",
    "# reviews = loader.load()\n",
    "\n",
    "# reviews_vector_db = Chroma.from_documents(\n",
    "#     reviews, CohereEmbeddings(), persist_directory=REVIEWS_CHROMA_PATH\n",
    "# )"
   ]
  },
  {
   "cell_type": "markdown",
   "metadata": {},
   "source": [
    "## Cut DataFrame 20 rows"
   ]
  },
  {
   "cell_type": "code",
   "execution_count": 20,
   "metadata": {},
   "outputs": [
    {
     "name": "stdout",
     "output_type": "stream",
     "text": [
      "<class 'pandas.core.frame.DataFrame'>\n",
      "RangeIndex: 9998 entries, 0 to 9997\n",
      "Data columns (total 15 columns):\n",
      " #   Column                 Non-Null Count  Dtype  \n",
      "---  ------                 --------------  -----  \n",
      " 0   patient_id             9998 non-null   int64  \n",
      " 1   date_of_admission      9998 non-null   object \n",
      " 2   billing_amount         9998 non-null   float64\n",
      " 3   room_number            9998 non-null   int64  \n",
      " 4   admission_type         9998 non-null   object \n",
      " 5   discharge_date         9498 non-null   object \n",
      " 6   test_results           9998 non-null   object \n",
      " 7   visit_id               9998 non-null   int64  \n",
      " 8   physician_id           9998 non-null   int64  \n",
      " 9   payer_id               9998 non-null   int64  \n",
      " 10  hospital_id            9998 non-null   int64  \n",
      " 11  chief_complaint        3000 non-null   object \n",
      " 12  treatment_description  3000 non-null   object \n",
      " 13  primary_diagnosis      3000 non-null   object \n",
      " 14  visit_status           9998 non-null   object \n",
      "dtypes: float64(1), int64(6), object(8)\n",
      "memory usage: 1.1+ MB\n"
     ]
    }
   ],
   "source": [
    "import pandas as pd\n",
    "visits = pd.read_csv(\"data/visits.csv\")\n",
    "visits.info()"
   ]
  },
  {
   "cell_type": "code",
   "execution_count": 21,
   "metadata": {},
   "outputs": [],
   "source": [
    "visits = visits[:20]\n",
    "visits.to_csv(\"data/visits_20.csv\", index=False)"
   ]
  },
  {
   "cell_type": "code",
   "execution_count": 22,
   "metadata": {},
   "outputs": [],
   "source": [
    "patient = pd.read_csv('data/patients.csv')\n",
    "patient = patient[:20]\n",
    "patient.to_csv(\"data/patients_20.csv\", index=False)"
   ]
  },
  {
   "cell_type": "code",
   "execution_count": 24,
   "metadata": {},
   "outputs": [],
   "source": [
    "physician = pd.read_csv(\"data/physicians.csv\")\n",
    "physician = physician[:20]\n",
    "physician.to_csv(\"data/physician_20.csv\", index=False)"
   ]
  },
  {
   "cell_type": "markdown",
   "metadata": {},
   "source": [
    "We will use data visit to build relationship every data using id, something like visit_id, physician_id, payer_id, hospital_id and patient_id and review_id from data reviews.csv"
   ]
  },
  {
   "cell_type": "markdown",
   "metadata": {},
   "source": [
    "## MultiVector"
   ]
  },
  {
   "cell_type": "code",
   "execution_count": 48,
   "metadata": {},
   "outputs": [],
   "source": [
    "from langchain.storage import InMemoryByteStore\n",
    "from langchain.document_loaders.csv_loader import CSVLoader\n",
    "from langchain_community.vectorstores import Chroma\n",
    "from langchain_cohere import CohereEmbeddings\n",
    "from langchain.retrievers.multi_vector import MultiVectorRetriever\n",
    "from langchain_text_splitters import RecursiveCharacterTextSplitter"
   ]
  },
  {
   "cell_type": "code",
   "execution_count": 49,
   "metadata": {},
   "outputs": [],
   "source": [
    "loaders = [\n",
    "    CSVLoader(\"data/summary/hospital_summary.csv\", source_column=\"summary\"),\n",
    "    CSVLoader(\"data/summary/patient_summary.csv\", source_column=\"summary\"),\n",
    "    CSVLoader(\"data/summary/payer_summary.csv\", source_column=\"summary\"),\n",
    "    CSVLoader(\"data/summary/physician_summary.csv\", source_column=\"summary\"),\n",
    "    CSVLoader(\"data/summary/visit_summary.csv\", source_column=\"summary\"),\n",
    "    CSVLoader(\"data/reviews.csv\", source_column=\"review\"),\n",
    "]\n",
    "\n",
    "docs = []\n",
    "for loader in loaders:\n",
    "    docs.extend(loader.load())\n",
    "text_splitter = RecursiveCharacterTextSplitter()\n",
    "docs = text_splitter.split_documents(docs)"
   ]
  },
  {
   "cell_type": "code",
   "execution_count": 51,
   "metadata": {},
   "outputs": [],
   "source": [
    "# The vectorstore to use to index the child chunks\n",
    "vectorstore = Chroma(\n",
    "    collection_name=\"full_documents\", embedding_function=CohereEmbeddings(cohere_api_key=COHERE_API_KEY)\n",
    ")\n",
    "# The storage layer for the parent documents\n",
    "store = InMemoryByteStore()\n",
    "id_key = \"doc_id\"\n",
    "# The retriever (empty to start)\n",
    "retriever = MultiVectorRetriever(\n",
    "    vectorstore=vectorstore,\n",
    "    byte_store=store,\n",
    "    id_key=id_key,\n",
    ")\n",
    "import uuid\n",
    "\n",
    "doc_ids = [str(uuid.uuid4()) for _ in docs]"
   ]
  },
  {
   "cell_type": "code",
   "execution_count": 56,
   "metadata": {},
   "outputs": [],
   "source": [
    "retriever.vectorstore.add_documents(docs)"
   ]
  },
  {
   "cell_type": "code",
   "execution_count": null,
   "metadata": {},
   "outputs": [],
   "source": [
    "# Vectorstore alone retrieves the small chunks\n",
    "retriever.vectorstore.similarity_search(\"justice breyer\")[0]"
   ]
  },
  {
   "cell_type": "markdown",
   "metadata": {},
   "source": [
    "## Test Review Chain"
   ]
  },
  {
   "cell_type": "code",
   "execution_count": 3,
   "metadata": {},
   "outputs": [
    {
     "name": "stderr",
     "output_type": "stream",
     "text": [
      "2024-05-29 19:39:36 [INFO] Setting up vector chain...\n",
      "2024-05-29 19:39:36 [INFO] Load CohereEmbedding...\n",
      "2024-05-29 19:39:37 [INFO] Attempting to set up Neo4j vector index from existing index...\n",
      "2024-05-29 19:39:43 [INFO] HTTP Request: POST https://api.cohere.ai/v1/chat \"HTTP/1.1 200 OK\"\n"
     ]
    },
    {
     "name": "stdout",
     "output_type": "stream",
     "text": [
      "\n",
      "Response time: 3.231100559234619 seconds\n",
      "Response : The patient expresses gratitude for the compassionate and thorough medical care received at the hospital. The medical team is praised for their attentive and supportive nature, ensuring a comfortable and smooth recovery. The facilities are described as top-notch, modern, and well-equipped, contributing to a positive overall experience. This review highlights the excellent standard of care and the patient's satisfaction with their stay.\n"
     ]
    }
   ],
   "source": [
    "from llm_api.src.chains.review_chain import setup_vector_chain\n",
    "import time\n",
    "from dotenv import load_dotenv, find_dotenv\n",
    "load_dotenv(find_dotenv())\n",
    "\n",
    "query = \"\"\"give me the best patient review.\"\"\"\n",
    "vector_chain = setup_vector_chain()\n",
    "start_time = time.time()\n",
    "response = vector_chain.invoke(query)\n",
    "end_time = time.time()\n",
    "response_time = end_time - start_time\n",
    "res = response.get(\"result\")\n",
    "print(f\"\\nResponse time: {response_time} seconds\")\n",
    "print(\"Response :\", res)"
   ]
  },
  {
   "cell_type": "markdown",
   "metadata": {},
   "source": [
    "## Test Cypher Chain\n",
    "#### Llama 3 8b"
   ]
  },
  {
   "cell_type": "code",
   "execution_count": 30,
   "metadata": {},
   "outputs": [],
   "source": [
    "question = [\n",
    "    \"What is the average billing amount for Medicaid visits?\",\n",
    "    \"How many patients did Jason Williams treat while working at the hospital?\",\n",
    "    \"I was looking for a patient but forgot his name,  I only know his date of birth is 1989-01-26 and his blood type is AB+\",\n",
    "    \"I need information about the visit on 2022-03-08 such as chief complaint, treatment, who was the patient and the attending physician and payment status\",\n",
    "    \"How many patients has Dr. Ryan Brown treated?\",\n",
    "    \"How much was billed for patient 789's stay?\",\n",
    "    \"Which physician has billed the most to cigna?\",\n",
    "]\n",
    "\n",
    "result = []"
   ]
  },
  {
   "cell_type": "code",
   "execution_count": 32,
   "metadata": {},
   "outputs": [
    {
     "name": "stdout",
     "output_type": "stream",
     "text": [
      "\n",
      "\n",
      "\u001b[1m> Entering new GraphCypherQAChain chain...\u001b[0m\n"
     ]
    },
    {
     "name": "stderr",
     "output_type": "stream",
     "text": [
      "2024-05-31 19:29:00 [INFO] HTTP Request: POST https://api.groq.com/openai/v1/chat/completions \"HTTP/1.1 200 OK\"\n"
     ]
    },
    {
     "name": "stdout",
     "output_type": "stream",
     "text": [
      "Generated Cypher:\n",
      "\u001b[32;1m\u001b[1;3mMATCH (p:Payer {name: 'Medicaid'})<-[:COVERED_BY]-(v:Visit)-[t:TREATS]-(phy:Physician)\n",
      "RETURN avg(t.billing_amount) AS average_billing_amount\u001b[0m\n",
      "Full Context:\n",
      "\u001b[32;1m\u001b[1;3m[{'average_billing_amount': None}]\u001b[0m\n"
     ]
    },
    {
     "name": "stderr",
     "output_type": "stream",
     "text": [
      "2024-05-31 19:29:02 [INFO] HTTP Request: POST https://api.cohere.ai/v1/chat \"HTTP/1.1 200 OK\"\n"
     ]
    },
    {
     "name": "stdout",
     "output_type": "stream",
     "text": [
      "\n",
      "\u001b[1m> Finished chain.\u001b[0m\n",
      "\n",
      "\n",
      "\u001b[1m> Entering new GraphCypherQAChain chain...\u001b[0m\n"
     ]
    },
    {
     "name": "stderr",
     "output_type": "stream",
     "text": [
      "2024-05-31 19:29:03 [INFO] HTTP Request: POST https://api.groq.com/openai/v1/chat/completions \"HTTP/1.1 200 OK\"\n"
     ]
    },
    {
     "name": "stdout",
     "output_type": "stream",
     "text": [
      "Generated Cypher:\n",
      "\u001b[32;1m\u001b[1;3mMATCH (phy:Physician {name: 'Jason Williams'})-[:TREATS]->(v:Visit)-[:AT]->(h:Hospital)\n",
      "RETURN COUNT(v) AS patient_count\u001b[0m\n",
      "Full Context:\n",
      "\u001b[32;1m\u001b[1;3m[{'patient_count': 18}]\u001b[0m\n"
     ]
    },
    {
     "name": "stderr",
     "output_type": "stream",
     "text": [
      "2024-05-31 19:29:04 [INFO] HTTP Request: POST https://api.cohere.ai/v1/chat \"HTTP/1.1 200 OK\"\n"
     ]
    },
    {
     "name": "stdout",
     "output_type": "stream",
     "text": [
      "\n",
      "\u001b[1m> Finished chain.\u001b[0m\n",
      "\n",
      "\n",
      "\u001b[1m> Entering new GraphCypherQAChain chain...\u001b[0m\n"
     ]
    },
    {
     "name": "stderr",
     "output_type": "stream",
     "text": [
      "2024-05-31 19:29:04 [INFO] HTTP Request: POST https://api.groq.com/openai/v1/chat/completions \"HTTP/1.1 200 OK\"\n"
     ]
    },
    {
     "name": "stdout",
     "output_type": "stream",
     "text": [
      "Generated Cypher:\n",
      "\u001b[32;1m\u001b[1;3mMATCH (p:Patient)-[:HAS]->(v:Visit)\n",
      "WHERE p.dob = '1989-01-26' AND p.blood_type = 'AB+'\n",
      "RETURN p.name AS patient_name\u001b[0m\n",
      "Full Context:\n",
      "\u001b[32;1m\u001b[1;3m[{'patient_name': 'Mrs. Brandy Flowers'}]\u001b[0m\n"
     ]
    },
    {
     "name": "stderr",
     "output_type": "stream",
     "text": [
      "2024-05-31 19:29:06 [INFO] HTTP Request: POST https://api.cohere.ai/v1/chat \"HTTP/1.1 200 OK\"\n"
     ]
    },
    {
     "name": "stdout",
     "output_type": "stream",
     "text": [
      "\n",
      "\u001b[1m> Finished chain.\u001b[0m\n",
      "\n",
      "\n",
      "\u001b[1m> Entering new GraphCypherQAChain chain...\u001b[0m\n"
     ]
    },
    {
     "name": "stderr",
     "output_type": "stream",
     "text": [
      "2024-05-31 19:29:07 [INFO] HTTP Request: POST https://api.groq.com/openai/v1/chat/completions \"HTTP/1.1 200 OK\"\n"
     ]
    },
    {
     "name": "stdout",
     "output_type": "stream",
     "text": [
      "Generated Cypher:\n",
      "\u001b[32;1m\u001b[1;3mMATCH (v:Visit)-[:AT]->(h:Hospital)\n",
      "WHERE v.admission_date = '2022-03-08'\n",
      "WITH v, h\n",
      "MATCH (v)<-[:TREATS]-(phy:Physician)\n",
      "MATCH (v)<-[:HAS]-(p:Patient)\n",
      "RETURN p.name AS patient_name, phy.name AS attending_physician, v.chief_complaint AS chief_complaint, v.treatment_description AS treatment, v.status AS payment_status\u001b[0m\n",
      "Full Context:\n",
      "\u001b[32;1m\u001b[1;3m[{'patient_name': 'Malik Sullivan', 'attending_physician': 'Christine Perkins', 'chief_complaint': 'Impaired coordination and tremors', 'treatment': 'Perform neurological assessments, prescribe medications for tremor control, and recommend physical therapy.', 'payment_status': 'DISCHARGED'}, {'patient_name': 'Teresa Caldwell', 'attending_physician': 'Charles Kim', 'chief_complaint': 'Chief complaint is a constant feeling of heat and sweating.', 'treatment': 'Evaluate for possible hormonal issues or conditions such as hyperthyroidism; recommend further endocrine testing and appropriate interventions.', 'payment_status': 'DISCHARGED'}, {'patient_name': 'Jeffrey Pacheco', 'attending_physician': 'Vickie Collins', 'chief_complaint': 'Short-term memory lapse', 'treatment': 'Cognitive assessments, memory exercises, and addressing underlying causes such as stress or medical conditions.', 'payment_status': 'DISCHARGED'}, {'patient_name': 'Audrey Park', 'attending_physician': 'Jennifer Mccall', 'chief_complaint': None, 'treatment': None, 'payment_status': 'DISCHARGED'}, {'patient_name': 'Robert Coleman', 'attending_physician': 'Heather Smith', 'chief_complaint': None, 'treatment': None, 'payment_status': 'DISCHARGED'}, {'patient_name': 'Patrick Poole', 'attending_physician': 'Joshua Jenkins', 'chief_complaint': None, 'treatment': None, 'payment_status': 'DISCHARGED'}, {'patient_name': 'John Hubbard', 'attending_physician': 'Ryan Vasquez', 'chief_complaint': None, 'treatment': None, 'payment_status': 'DISCHARGED'}, {'patient_name': 'Crystal Cooper', 'attending_physician': 'Carla Miller', 'chief_complaint': None, 'treatment': None, 'payment_status': 'DISCHARGED'}]\u001b[0m\n"
     ]
    },
    {
     "name": "stderr",
     "output_type": "stream",
     "text": [
      "2024-05-31 19:29:08 [INFO] HTTP Request: POST https://api.cohere.ai/v1/chat \"HTTP/1.1 200 OK\"\n"
     ]
    },
    {
     "name": "stdout",
     "output_type": "stream",
     "text": [
      "\n",
      "\u001b[1m> Finished chain.\u001b[0m\n",
      "\n",
      "\n",
      "\u001b[1m> Entering new GraphCypherQAChain chain...\u001b[0m\n"
     ]
    },
    {
     "name": "stderr",
     "output_type": "stream",
     "text": [
      "2024-05-31 19:29:12 [INFO] HTTP Request: POST https://api.groq.com/openai/v1/chat/completions \"HTTP/1.1 200 OK\"\n"
     ]
    },
    {
     "name": "stdout",
     "output_type": "stream",
     "text": [
      "Generated Cypher:\n",
      "\u001b[32;1m\u001b[1;3mMATCH (p:Physician {name: 'Ryan Brown'})-[:TREATS]->(v:Visit) \n",
      "RETURN COUNT(v)\u001b[0m\n",
      "Full Context:\n",
      "\u001b[32;1m\u001b[1;3m[{'COUNT(v)': 21}]\u001b[0m\n"
     ]
    },
    {
     "name": "stderr",
     "output_type": "stream",
     "text": [
      "2024-05-31 19:29:13 [INFO] HTTP Request: POST https://api.cohere.ai/v1/chat \"HTTP/1.1 200 OK\"\n"
     ]
    },
    {
     "name": "stdout",
     "output_type": "stream",
     "text": [
      "\n",
      "\u001b[1m> Finished chain.\u001b[0m\n",
      "\n",
      "\n",
      "\u001b[1m> Entering new GraphCypherQAChain chain...\u001b[0m\n"
     ]
    },
    {
     "name": "stderr",
     "output_type": "stream",
     "text": [
      "2024-05-31 19:29:16 [INFO] HTTP Request: POST https://api.groq.com/openai/v1/chat/completions \"HTTP/1.1 200 OK\"\n"
     ]
    },
    {
     "name": "stdout",
     "output_type": "stream",
     "text": [
      "Generated Cypher:\n",
      "\u001b[32;1m\u001b[1;3mMATCH (p:Patient {id: 789})-[:HAS]->(v:Visit)-[:COVERED_BY]->(c:Payer)\n",
      "RETURN c.billing_amount AS billing_amount\u001b[0m\n",
      "Full Context:\n",
      "\u001b[32;1m\u001b[1;3m[{'billing_amount': None}]\u001b[0m\n"
     ]
    },
    {
     "name": "stderr",
     "output_type": "stream",
     "text": [
      "2024-05-31 19:29:16 [INFO] HTTP Request: POST https://api.cohere.ai/v1/chat \"HTTP/1.1 200 OK\"\n"
     ]
    },
    {
     "name": "stdout",
     "output_type": "stream",
     "text": [
      "\n",
      "\u001b[1m> Finished chain.\u001b[0m\n",
      "\n",
      "\n",
      "\u001b[1m> Entering new GraphCypherQAChain chain...\u001b[0m\n"
     ]
    },
    {
     "name": "stderr",
     "output_type": "stream",
     "text": [
      "2024-05-31 19:29:18 [INFO] HTTP Request: POST https://api.groq.com/openai/v1/chat/completions \"HTTP/1.1 200 OK\"\n"
     ]
    },
    {
     "name": "stdout",
     "output_type": "stream",
     "text": [
      "Generated Cypher:\n",
      "\u001b[32;1m\u001b[1;3mMATCH (p:Payer)<-[c:COVERED_BY]-(v:Visit)-[t:TREATS]-(phy:Physician)\n",
      "WHERE p.name = 'Cigna'\n",
      "RETURN phy.name AS physician_name, SUM(c.billing_amount) AS total_billed\n",
      "ORDER BY total_billed DESC\n",
      "LIMIT 1\u001b[0m\n",
      "Full Context:\n",
      "\u001b[32;1m\u001b[1;3m[{'physician_name': 'Michael Watson', 'total_billed': 395520.74246200576}]\u001b[0m\n"
     ]
    },
    {
     "name": "stderr",
     "output_type": "stream",
     "text": [
      "2024-05-31 19:29:19 [INFO] HTTP Request: POST https://api.cohere.ai/v1/chat \"HTTP/1.1 200 OK\"\n"
     ]
    },
    {
     "name": "stdout",
     "output_type": "stream",
     "text": [
      "\n",
      "\u001b[1m> Finished chain.\u001b[0m\n",
      "\n",
      "Response time: 20.672751665115356 seconds\n"
     ]
    }
   ],
   "source": [
    "from llm_api.src.chains.cyper_chain import create_cypher_qa_chain\n",
    "import time\n",
    "from dotenv import load_dotenv, find_dotenv\n",
    "load_dotenv(find_dotenv())\n",
    "\n",
    "\n",
    "cypher_qa_chain = create_cypher_qa_chain()\n",
    "start_time = time.time()\n",
    "for query in question:\n",
    "    try:\n",
    "        response = cypher_qa_chain.invoke(query)\n",
    "        res = response.get(\"result\")\n",
    "        data = {\"Question\": query, \"Response\": res}\n",
    "        result.append(data)\n",
    "    except Exception as e:\n",
    "        data = {\"Question\": query, \"Error\": str(e)}\n",
    "        result.append(data)\n",
    "    \n",
    "end_time = time.time()\n",
    "response_time = end_time - start_time\n",
    "# res = response.get(\"result\")\n",
    "print(f\"\\nResponse time: {response_time} seconds\")\n",
    "# print(\"Response :\", res)"
   ]
  },
  {
   "cell_type": "code",
   "execution_count": 34,
   "metadata": {},
   "outputs": [
    {
     "name": "stdout",
     "output_type": "stream",
     "text": [
      "Question: What is the average billing amount for Medicaid visits?\n",
      "Response: Unfortunately, I don't know the average billing amount for Medicaid visits.\n",
      "\n",
      "Question: How many patients did Jason Williams treat while working at the hospital?\n",
      "Response: Jason Williams treated 18 patients during his time at the hospital.\n",
      "\n",
      "Question: I was looking for a patient but forgot his name,  I only know his date of birth is 1989-01-26 and his blood type is AB+\n",
      "Response: I can confirm that the patient with the date of birth 26th of January 1989 and blood type AB+ is Mrs. Brandy Flowers.\n",
      "\n",
      "Question: I need information about the visit on 2022-03-08 such as chief complaint, treatment, who was the patient and the attending physician and payment status\n",
      "Response: On March 8, 2022, Malik Sullivan visited with Dr. Christine Perkins regarding impaired coordination and tremors. The treatment plan included neurological assessments, medication for tremor control, and a recommendation for physical therapy. Teresa Caldwell also attended an appointment with Dr. Charles Kim, complaining of a constant feeling of heat and sweating. Dr. Kim suggested further endocrine testing and potential interventions for hormonal issues or conditions like hyperthyroidism. Additionally, Jeffrey Pacheco met with Dr. Vickie Collins about short-term memory lapses, and they discussed cognitive assessments, memory exercises, and addressing underlying causes such as stress. All three patients were discharged after their visits.\n",
      "\n",
      "It is important to note that for patients Audrey Park, Robert Coleman, Patrick Poole, John Hubbard, and Crystal Cooper, there is no information available regarding their chief complaints, treatments, or specific attending physicians for this particular visit date. Their records only indicate that they were discharged.\n",
      "\n",
      "Question: How many patients has Dr. Ryan Brown treated?\n",
      "Response: Dr. Ryan Brown has treated 21 patients.\n",
      "\n",
      "Question: How much was billed for patient 789's stay?\n",
      "Response: Unfortunately, I do not know the billing amount for patient 789's stay.\n",
      "\n",
      "Question: Which physician has billed the most to cigna?\n",
      "Response: Michael Watson is the physician who has billed the most to Cigna, with a total billed amount of $395,520.74.\n",
      "\n"
     ]
    }
   ],
   "source": [
    "for res in result:\n",
    "    print(f\"Question: {res['Question']}\")\n",
    "    if \"Response\" in res:\n",
    "        print(f\"Response: {res['Response']}\\n\")\n",
    "    else:\n",
    "        print(f\"Error: {res['Error']}\\n\")"
   ]
  },
  {
   "cell_type": "markdown",
   "metadata": {},
   "source": [
    "Two tries, the llama3 8b model managed to record a time of 20 seconds with a score of 80% (own assumption)"
   ]
  },
  {
   "cell_type": "markdown",
   "metadata": {},
   "source": [
    "#### Model Llama 3 70B"
   ]
  },
  {
   "cell_type": "code",
   "execution_count": 39,
   "metadata": {},
   "outputs": [
    {
     "name": "stdout",
     "output_type": "stream",
     "text": [
      "\n",
      "\n",
      "\u001b[1m> Entering new GraphCypherQAChain chain...\u001b[0m\n"
     ]
    },
    {
     "name": "stderr",
     "output_type": "stream",
     "text": [
      "2024-05-31 19:36:47 [INFO] HTTP Request: POST https://api.groq.com/openai/v1/chat/completions \"HTTP/1.1 200 OK\"\n"
     ]
    },
    {
     "name": "stdout",
     "output_type": "stream",
     "text": [
      "Generated Cypher:\n",
      "\u001b[32;1m\u001b[1;3mMATCH (p:Payer {name: 'Medicaid'})<-[:COVERED_BY]-(v:Visit)-[t:TREATS]-(phy:Physician)\n",
      "RETURN avg(t.billing_amount) AS average_billing_amount\u001b[0m\n",
      "Full Context:\n",
      "\u001b[32;1m\u001b[1;3m[{'average_billing_amount': None}]\u001b[0m\n"
     ]
    },
    {
     "name": "stderr",
     "output_type": "stream",
     "text": [
      "2024-05-31 19:36:49 [INFO] HTTP Request: POST https://api.cohere.ai/v1/chat \"HTTP/1.1 200 OK\"\n"
     ]
    },
    {
     "name": "stdout",
     "output_type": "stream",
     "text": [
      "\n",
      "\u001b[1m> Finished chain.\u001b[0m\n",
      "\n",
      "\n",
      "\u001b[1m> Entering new GraphCypherQAChain chain...\u001b[0m\n"
     ]
    },
    {
     "name": "stderr",
     "output_type": "stream",
     "text": [
      "2024-05-31 19:36:50 [INFO] HTTP Request: POST https://api.groq.com/openai/v1/chat/completions \"HTTP/1.1 200 OK\"\n"
     ]
    },
    {
     "name": "stdout",
     "output_type": "stream",
     "text": [
      "Generated Cypher:\n",
      "\u001b[32;1m\u001b[1;3mMATCH (phy:Physician {name: 'Jason Williams'})-[:TREATS]->(v:Visit)-[:AT]->(h:Hospital)\n",
      "RETURN COUNT(v) AS patient_count\u001b[0m\n",
      "Full Context:\n",
      "\u001b[32;1m\u001b[1;3m[{'patient_count': 18}]\u001b[0m\n"
     ]
    },
    {
     "name": "stderr",
     "output_type": "stream",
     "text": [
      "2024-05-31 19:36:51 [INFO] HTTP Request: POST https://api.cohere.ai/v1/chat \"HTTP/1.1 200 OK\"\n"
     ]
    },
    {
     "name": "stdout",
     "output_type": "stream",
     "text": [
      "\n",
      "\u001b[1m> Finished chain.\u001b[0m\n",
      "\n",
      "\n",
      "\u001b[1m> Entering new GraphCypherQAChain chain...\u001b[0m\n"
     ]
    },
    {
     "name": "stderr",
     "output_type": "stream",
     "text": [
      "2024-05-31 19:36:53 [INFO] HTTP Request: POST https://api.groq.com/openai/v1/chat/completions \"HTTP/1.1 200 OK\"\n"
     ]
    },
    {
     "name": "stdout",
     "output_type": "stream",
     "text": [
      "Generated Cypher:\n",
      "\u001b[32;1m\u001b[1;3mMATCH (p:Patient)-[:HAS]->(v:Visit)\n",
      "WHERE p.dob = '1989-01-26' AND p.blood_type = 'AB+'\n",
      "RETURN p.name AS patient_name\u001b[0m\n",
      "Full Context:\n",
      "\u001b[32;1m\u001b[1;3m[{'patient_name': 'Mrs. Brandy Flowers'}]\u001b[0m\n"
     ]
    },
    {
     "name": "stderr",
     "output_type": "stream",
     "text": [
      "2024-05-31 19:36:54 [INFO] HTTP Request: POST https://api.cohere.ai/v1/chat \"HTTP/1.1 200 OK\"\n"
     ]
    },
    {
     "name": "stdout",
     "output_type": "stream",
     "text": [
      "\n",
      "\u001b[1m> Finished chain.\u001b[0m\n",
      "\n",
      "\n",
      "\u001b[1m> Entering new GraphCypherQAChain chain...\u001b[0m\n"
     ]
    },
    {
     "name": "stderr",
     "output_type": "stream",
     "text": [
      "2024-05-31 19:36:55 [INFO] HTTP Request: POST https://api.groq.com/openai/v1/chat/completions \"HTTP/1.1 200 OK\"\n"
     ]
    },
    {
     "name": "stdout",
     "output_type": "stream",
     "text": [
      "Generated Cypher:\n",
      "\u001b[32;1m\u001b[1;3mMATCH (v:Visit)-[:AT]->(h:Hospital)\n",
      "WHERE v.admission_date = '2022-03-08'\n",
      "WITH v, h\n",
      "MATCH (v)<-[:TREATS]-(phy:Physician)\n",
      "MATCH (v)<-[:HAS]-(p:Patient)\n",
      "RETURN p.name AS patient_name, phy.name AS physician_name, v.chief_complaint AS chief_complaint, v.treatment_description AS treatment, \n",
      "       CASE WHEN v.status = 'OPEN' THEN 'Open' ELSE 'Closed' END AS payment_status\u001b[0m\n",
      "Full Context:\n",
      "\u001b[32;1m\u001b[1;3m[{'patient_name': 'Malik Sullivan', 'physician_name': 'Christine Perkins', 'chief_complaint': 'Impaired coordination and tremors', 'treatment': 'Perform neurological assessments, prescribe medications for tremor control, and recommend physical therapy.', 'payment_status': 'Closed'}, {'patient_name': 'Teresa Caldwell', 'physician_name': 'Charles Kim', 'chief_complaint': 'Chief complaint is a constant feeling of heat and sweating.', 'treatment': 'Evaluate for possible hormonal issues or conditions such as hyperthyroidism; recommend further endocrine testing and appropriate interventions.', 'payment_status': 'Closed'}, {'patient_name': 'Jeffrey Pacheco', 'physician_name': 'Vickie Collins', 'chief_complaint': 'Short-term memory lapse', 'treatment': 'Cognitive assessments, memory exercises, and addressing underlying causes such as stress or medical conditions.', 'payment_status': 'Closed'}, {'patient_name': 'Audrey Park', 'physician_name': 'Jennifer Mccall', 'chief_complaint': None, 'treatment': None, 'payment_status': 'Closed'}, {'patient_name': 'Robert Coleman', 'physician_name': 'Heather Smith', 'chief_complaint': None, 'treatment': None, 'payment_status': 'Closed'}, {'patient_name': 'Patrick Poole', 'physician_name': 'Joshua Jenkins', 'chief_complaint': None, 'treatment': None, 'payment_status': 'Closed'}, {'patient_name': 'John Hubbard', 'physician_name': 'Ryan Vasquez', 'chief_complaint': None, 'treatment': None, 'payment_status': 'Closed'}, {'patient_name': 'Crystal Cooper', 'physician_name': 'Carla Miller', 'chief_complaint': None, 'treatment': None, 'payment_status': 'Closed'}]\u001b[0m\n"
     ]
    },
    {
     "name": "stderr",
     "output_type": "stream",
     "text": [
      "2024-05-31 19:36:57 [INFO] HTTP Request: POST https://api.cohere.ai/v1/chat \"HTTP/1.1 200 OK\"\n"
     ]
    },
    {
     "name": "stdout",
     "output_type": "stream",
     "text": [
      "\n",
      "\u001b[1m> Finished chain.\u001b[0m\n",
      "\n",
      "\n",
      "\u001b[1m> Entering new GraphCypherQAChain chain...\u001b[0m\n"
     ]
    },
    {
     "name": "stderr",
     "output_type": "stream",
     "text": [
      "2024-05-31 19:36:59 [INFO] HTTP Request: POST https://api.groq.com/openai/v1/chat/completions \"HTTP/1.1 200 OK\"\n"
     ]
    },
    {
     "name": "stdout",
     "output_type": "stream",
     "text": [
      "Generated Cypher:\n",
      "\u001b[32;1m\u001b[1;3mMATCH (p:Physician {name: 'Ryan Brown'})-[:TREATS]->(v:Visit) \n",
      "RETURN COUNT(v)\u001b[0m\n",
      "Full Context:\n",
      "\u001b[32;1m\u001b[1;3m[{'COUNT(v)': 21}]\u001b[0m\n"
     ]
    },
    {
     "name": "stderr",
     "output_type": "stream",
     "text": [
      "2024-05-31 19:37:01 [INFO] HTTP Request: POST https://api.cohere.ai/v1/chat \"HTTP/1.1 200 OK\"\n"
     ]
    },
    {
     "name": "stdout",
     "output_type": "stream",
     "text": [
      "\n",
      "\u001b[1m> Finished chain.\u001b[0m\n",
      "\n",
      "\n",
      "\u001b[1m> Entering new GraphCypherQAChain chain...\u001b[0m\n"
     ]
    },
    {
     "name": "stderr",
     "output_type": "stream",
     "text": [
      "2024-05-31 19:37:02 [INFO] HTTP Request: POST https://api.groq.com/openai/v1/chat/completions \"HTTP/1.1 200 OK\"\n"
     ]
    },
    {
     "name": "stdout",
     "output_type": "stream",
     "text": [
      "Generated Cypher:\n",
      "\u001b[32;1m\u001b[1;3mMATCH (p:Patient {id: 789})-[:HAS]->(v:Visit)-[:COVERED_BY]->(c:Payer)\n",
      "RETURN c.billing_amount AS billing_amount\u001b[0m\n",
      "Full Context:\n",
      "\u001b[32;1m\u001b[1;3m[{'billing_amount': None}]\u001b[0m\n"
     ]
    },
    {
     "name": "stderr",
     "output_type": "stream",
     "text": [
      "2024-05-31 19:37:03 [INFO] HTTP Request: POST https://api.cohere.ai/v1/chat \"HTTP/1.1 200 OK\"\n"
     ]
    },
    {
     "name": "stdout",
     "output_type": "stream",
     "text": [
      "\n",
      "\u001b[1m> Finished chain.\u001b[0m\n",
      "\n",
      "\n",
      "\u001b[1m> Entering new GraphCypherQAChain chain...\u001b[0m\n"
     ]
    },
    {
     "name": "stderr",
     "output_type": "stream",
     "text": [
      "2024-05-31 19:37:04 [INFO] HTTP Request: POST https://api.groq.com/openai/v1/chat/completions \"HTTP/1.1 200 OK\"\n"
     ]
    },
    {
     "name": "stdout",
     "output_type": "stream",
     "text": [
      "Generated Cypher:\n",
      "\u001b[32;1m\u001b[1;3mMATCH (p:Payer)<-[c:COVERED_BY]-(v:Visit)-[t:TREATS]-(phy:Physician)\n",
      "WHERE p.name = 'Cigna'\n",
      "RETURN phy.name AS physician_name, SUM(c.billing_amount) AS total_billed\n",
      "ORDER BY total_billed DESC\n",
      "LIMIT 1\u001b[0m\n",
      "Full Context:\n",
      "\u001b[32;1m\u001b[1;3m[{'physician_name': 'Michael Watson', 'total_billed': 395520.74246200576}]\u001b[0m\n"
     ]
    },
    {
     "name": "stderr",
     "output_type": "stream",
     "text": [
      "2024-05-31 19:37:05 [INFO] HTTP Request: POST https://api.cohere.ai/v1/chat \"HTTP/1.1 200 OK\"\n"
     ]
    },
    {
     "name": "stdout",
     "output_type": "stream",
     "text": [
      "\n",
      "\u001b[1m> Finished chain.\u001b[0m\n",
      "\n",
      "Response time: 19.84330677986145 seconds\n"
     ]
    }
   ],
   "source": [
    "from llm_api.src.chains.cyper_chain import create_cypher_qa_chain\n",
    "import time\n",
    "from dotenv import load_dotenv, find_dotenv\n",
    "load_dotenv(find_dotenv())\n",
    "\n",
    "\n",
    "cypher_qa_chain = create_cypher_qa_chain()\n",
    "start_time = time.time()\n",
    "result = []\n",
    "for query in question:\n",
    "    try:\n",
    "        response = cypher_qa_chain.invoke(query)\n",
    "        res = response.get(\"result\")\n",
    "        data = {\"Question\": query, \"Response\": res}\n",
    "        result.append(data)\n",
    "    except Exception as e:\n",
    "        data = {\"Question\": query, \"Error\": str(e)}\n",
    "        result.append(data)\n",
    "    \n",
    "end_time = time.time()\n",
    "response_time = end_time - start_time\n",
    "# res = response.get(\"result\")\n",
    "print(f\"\\nResponse time: {response_time} seconds\")\n",
    "# print(\"Response :\", res)"
   ]
  },
  {
   "cell_type": "code",
   "execution_count": 40,
   "metadata": {},
   "outputs": [
    {
     "name": "stdout",
     "output_type": "stream",
     "text": [
      "Question: What is the average billing amount for Medicaid visits?\n",
      "Response: Unfortunately, I do not know the average billing amount for Medicaid visits.\n",
      "\n",
      "Question: How many patients did Jason Williams treat while working at the hospital?\n",
      "Response: Jason Williams treated 18 patients during his time at the hospital.\n",
      "\n",
      "Question: I was looking for a patient but forgot his name,  I only know his date of birth is 1989-01-26 and his blood type is AB+\n",
      "Response: I can confirm that the patient with the date of birth 1989-01-26 and blood type AB+ is Mrs. Brandy Flowers.\n",
      "\n",
      "Question: I need information about the visit on 2022-03-08 such as chief complaint, treatment, who was the patient and the attending physician and payment status\n",
      "Response: On March 8, 2022, Malik Sullivan saw Dr. Christine Perkins with a chief complaint of impaired coordination and tremors. Dr. Perkins recommended neurological assessments, prescribed medications for tremor control, and suggested physical therapy. The payment status for this visit is closed.\n",
      "\n",
      "Additionally, Teresa Caldwell visited Dr. Charles Kim, complaining of a constant feeling of heat and sweating. Dr. Kim evaluated hormonal issues and conditions like hyperthyroidism, recommending further endocrine testing and interventions. The payment status for this visit is also marked as closed.\n",
      "\n",
      "I can provide further details if needed, but this is the information pertaining to the visits on the date specified.\n",
      "\n",
      "Question: How many patients has Dr. Ryan Brown treated?\n",
      "Response: Dr. Ryan Brown has treated 21 patients.\n",
      "\n",
      "Question: How much was billed for patient 789's stay?\n",
      "Response: Unfortunately, I do not know the billing amount for patient 789's stay.\n",
      "\n",
      "Question: Which physician has billed the most to cigna?\n",
      "Response: Michael Watson is the physician who has billed the most to Cigna, with a total billed amount of $395,520.74.\n",
      "\n"
     ]
    }
   ],
   "source": [
    "for res in result:\n",
    "    print(f\"Question: {res['Question']}\")\n",
    "    if \"Response\" in res:\n",
    "        print(f\"Response: {res['Response']}\\n\")\n",
    "    else:\n",
    "        print(f\"Error: {res['Error']}\\n\")"
   ]
  },
  {
   "cell_type": "markdown",
   "metadata": {},
   "source": [
    "## Test Rag agent\n",
    "**Note:** sometimes we need to rerun the code to get the best results"
   ]
  },
  {
   "cell_type": "code",
   "execution_count": 17,
   "metadata": {},
   "outputs": [
    {
     "ename": "ValueError",
     "evalue": "Prompt missing required variables: {'agent_scratchpad', 'tools', 'tool_names'}",
     "output_type": "error",
     "traceback": [
      "\u001b[0;31m---------------------------------------------------------------------------\u001b[0m",
      "\u001b[0;31mValueError\u001b[0m                                Traceback (most recent call last)",
      "Cell \u001b[0;32mIn[17], line 3\u001b[0m\n\u001b[1;32m      1\u001b[0m \u001b[38;5;28;01mfrom\u001b[39;00m \u001b[38;5;21;01mllm_api\u001b[39;00m\u001b[38;5;21;01m.\u001b[39;00m\u001b[38;5;21;01msrc\u001b[39;00m\u001b[38;5;21;01m.\u001b[39;00m\u001b[38;5;21;01magents\u001b[39;00m\u001b[38;5;21;01m.\u001b[39;00m\u001b[38;5;21;01mrag_agent\u001b[39;00m \u001b[38;5;28;01mimport\u001b[39;00m agent_executor\n\u001b[0;32m----> 3\u001b[0m agent \u001b[38;5;241m=\u001b[39m \u001b[43magent_executor\u001b[49m\u001b[43m(\u001b[49m\u001b[43m)\u001b[49m\n",
      "File \u001b[0;32m~/project_py/langchain_project/RAG/llm_api/src/agents/rag_agent.py:95\u001b[0m, in \u001b[0;36magent_executor\u001b[0;34m()\u001b[0m\n\u001b[1;32m     87\u001b[0m chat_model \u001b[38;5;241m=\u001b[39m ChatGroq(\n\u001b[1;32m     88\u001b[0m         model\u001b[38;5;241m=\u001b[39mAGENT_MODEL,\n\u001b[1;32m     89\u001b[0m         api_key\u001b[38;5;241m=\u001b[39mGROQ_API_KEY,\n\u001b[1;32m     90\u001b[0m         temperature\u001b[38;5;241m=\u001b[39m\u001b[38;5;241m0.1\u001b[39m,\n\u001b[1;32m     91\u001b[0m         streaming\u001b[38;5;241m=\u001b[39m\u001b[38;5;28;01mTrue\u001b[39;00m,\n\u001b[1;32m     92\u001b[0m     )\n\u001b[1;32m     94\u001b[0m \u001b[38;5;66;03m# Create the chat agent with the tools and the chat model.\u001b[39;00m\n\u001b[0;32m---> 95\u001b[0m rag_agent \u001b[38;5;241m=\u001b[39m \u001b[43mcreate_react_agent\u001b[49m\u001b[43m(\u001b[49m\n\u001b[1;32m     96\u001b[0m \u001b[43m    \u001b[49m\u001b[43mllm\u001b[49m\u001b[38;5;241;43m=\u001b[39;49m\u001b[43mchat_model\u001b[49m\u001b[43m,\u001b[49m\n\u001b[1;32m     97\u001b[0m \u001b[43m    \u001b[49m\u001b[43mprompt\u001b[49m\u001b[38;5;241;43m=\u001b[39;49m\u001b[43mChatPromptTemplate\u001b[49m\u001b[38;5;241;43m.\u001b[39;49m\u001b[43mfrom_template\u001b[49m\u001b[43m(\u001b[49m\u001b[38;5;124;43m\"\u001b[39;49m\u001b[38;5;132;43;01m{input}\u001b[39;49;00m\u001b[38;5;124;43m\"\u001b[39;49m\u001b[43m)\u001b[49m\u001b[43m,\u001b[49m\n\u001b[1;32m     98\u001b[0m \u001b[43m    \u001b[49m\u001b[43mtools\u001b[49m\u001b[38;5;241;43m=\u001b[39;49m\u001b[43mtools\u001b[49m\u001b[43m,\u001b[49m\n\u001b[1;32m     99\u001b[0m \u001b[43m\u001b[49m\u001b[43m)\u001b[49m\n\u001b[1;32m    101\u001b[0m \u001b[38;5;66;03m# Create the AgentExecutor with the chat agent and the tools.\u001b[39;00m\n\u001b[1;32m    102\u001b[0m \u001b[38;5;28;01mreturn\u001b[39;00m AgentExecutor(\n\u001b[1;32m    103\u001b[0m     agent\u001b[38;5;241m=\u001b[39mrag_agent,\n\u001b[1;32m    104\u001b[0m     tools\u001b[38;5;241m=\u001b[39mtools,\n\u001b[1;32m    105\u001b[0m     return_intermediate_steps\u001b[38;5;241m=\u001b[39m\u001b[38;5;28;01mTrue\u001b[39;00m,\n\u001b[1;32m    106\u001b[0m     verbose\u001b[38;5;241m=\u001b[39m\u001b[38;5;28;01mTrue\u001b[39;00m,\n\u001b[1;32m    107\u001b[0m )\n",
      "File \u001b[0;32m~/environment/llm/lib/python3.10/site-packages/langchain/agents/react/agent.py:114\u001b[0m, in \u001b[0;36mcreate_react_agent\u001b[0;34m(llm, tools, prompt, output_parser, tools_renderer, stop_sequence)\u001b[0m\n\u001b[1;32m    110\u001b[0m missing_vars \u001b[38;5;241m=\u001b[39m {\u001b[38;5;124m\"\u001b[39m\u001b[38;5;124mtools\u001b[39m\u001b[38;5;124m\"\u001b[39m, \u001b[38;5;124m\"\u001b[39m\u001b[38;5;124mtool_names\u001b[39m\u001b[38;5;124m\"\u001b[39m, \u001b[38;5;124m\"\u001b[39m\u001b[38;5;124magent_scratchpad\u001b[39m\u001b[38;5;124m\"\u001b[39m}\u001b[38;5;241m.\u001b[39mdifference(\n\u001b[1;32m    111\u001b[0m     prompt\u001b[38;5;241m.\u001b[39minput_variables \u001b[38;5;241m+\u001b[39m \u001b[38;5;28mlist\u001b[39m(prompt\u001b[38;5;241m.\u001b[39mpartial_variables)\n\u001b[1;32m    112\u001b[0m )\n\u001b[1;32m    113\u001b[0m \u001b[38;5;28;01mif\u001b[39;00m missing_vars:\n\u001b[0;32m--> 114\u001b[0m     \u001b[38;5;28;01mraise\u001b[39;00m \u001b[38;5;167;01mValueError\u001b[39;00m(\u001b[38;5;124mf\u001b[39m\u001b[38;5;124m\"\u001b[39m\u001b[38;5;124mPrompt missing required variables: \u001b[39m\u001b[38;5;132;01m{\u001b[39;00mmissing_vars\u001b[38;5;132;01m}\u001b[39;00m\u001b[38;5;124m\"\u001b[39m)\n\u001b[1;32m    116\u001b[0m prompt \u001b[38;5;241m=\u001b[39m prompt\u001b[38;5;241m.\u001b[39mpartial(\n\u001b[1;32m    117\u001b[0m     tools\u001b[38;5;241m=\u001b[39mtools_renderer(\u001b[38;5;28mlist\u001b[39m(tools)),\n\u001b[1;32m    118\u001b[0m     tool_names\u001b[38;5;241m=\u001b[39m\u001b[38;5;124m\"\u001b[39m\u001b[38;5;124m, \u001b[39m\u001b[38;5;124m\"\u001b[39m\u001b[38;5;241m.\u001b[39mjoin([t\u001b[38;5;241m.\u001b[39mname \u001b[38;5;28;01mfor\u001b[39;00m t \u001b[38;5;129;01min\u001b[39;00m tools]),\n\u001b[1;32m    119\u001b[0m )\n\u001b[1;32m    120\u001b[0m \u001b[38;5;28;01mif\u001b[39;00m stop_sequence:\n",
      "\u001b[0;31mValueError\u001b[0m: Prompt missing required variables: {'agent_scratchpad', 'tools', 'tool_names'}"
     ]
    }
   ],
   "source": [
    "from llm_api.src.agents.rag_agent import agent_executor\n",
    "\n",
    "agent = agent_executor()"
   ]
  },
  {
   "cell_type": "code",
   "execution_count": 15,
   "metadata": {},
   "outputs": [
    {
     "ename": "ValueError",
     "evalue": "Prompt missing required variables: {'agent_scratchpad', 'tools', 'tool_names'}",
     "output_type": "error",
     "traceback": [
      "\u001b[0;31m---------------------------------------------------------------------------\u001b[0m",
      "\u001b[0;31mValueError\u001b[0m                                Traceback (most recent call last)",
      "Cell \u001b[0;32mIn[15], line 22\u001b[0m\n\u001b[1;32m      8\u001b[0m question \u001b[38;5;241m=\u001b[39m {\n\u001b[1;32m      9\u001b[0m          \u001b[38;5;124m\"\u001b[39m\u001b[38;5;124minput\u001b[39m\u001b[38;5;124m\"\u001b[39m: (\n\u001b[1;32m     10\u001b[0m              \u001b[38;5;124m\"\u001b[39m\u001b[38;5;124mWhat have patients said about their \u001b[39m\u001b[38;5;124m\"\u001b[39m\n\u001b[1;32m     11\u001b[0m              \u001b[38;5;124m\"\u001b[39m\u001b[38;5;124mquality of rest during their stay?\u001b[39m\u001b[38;5;124m\"\u001b[39m\n\u001b[1;32m     12\u001b[0m          )\n\u001b[1;32m     13\u001b[0m      }\n\u001b[1;32m     15\u001b[0m \u001b[38;5;66;03m# question = {\u001b[39;00m\n\u001b[1;32m     16\u001b[0m \u001b[38;5;66;03m#     \"input\": (\u001b[39;00m\n\u001b[1;32m     17\u001b[0m \u001b[38;5;66;03m#         \"Which state had the largest percent increase \"\u001b[39;00m\n\u001b[1;32m     18\u001b[0m \u001b[38;5;66;03m#         \"in Medicaid visits from 2022 to 2023?\"\u001b[39;00m\n\u001b[1;32m     19\u001b[0m \u001b[38;5;66;03m#     )\u001b[39;00m\n\u001b[1;32m     20\u001b[0m \u001b[38;5;66;03m# }\u001b[39;00m\n\u001b[0;32m---> 22\u001b[0m agent \u001b[38;5;241m=\u001b[39m \u001b[43magent_executor\u001b[49m\u001b[43m(\u001b[49m\u001b[43m)\u001b[49m\n\u001b[1;32m     23\u001b[0m start_time \u001b[38;5;241m=\u001b[39m time\u001b[38;5;241m.\u001b[39mtime()\n\u001b[1;32m     24\u001b[0m \u001b[38;5;66;03m# response = agent.invoke(question)\u001b[39;00m\n\u001b[1;32m     25\u001b[0m \u001b[38;5;66;03m# end_time = time.time()\u001b[39;00m\n\u001b[1;32m     26\u001b[0m \u001b[38;5;66;03m# response_time = end_time - start_time\u001b[39;00m\n\u001b[1;32m     27\u001b[0m \u001b[38;5;66;03m# res = response.get(\"output\")\u001b[39;00m\n\u001b[1;32m     28\u001b[0m \u001b[38;5;66;03m# print(f\"\\nResponse time: {response_time} seconds\")\u001b[39;00m\n\u001b[1;32m     29\u001b[0m \u001b[38;5;66;03m# print(\"Response :\", res)\u001b[39;00m\n",
      "File \u001b[0;32m~/project_py/langchain_project/RAG/llm_api/src/agents/rag_agent.py:95\u001b[0m, in \u001b[0;36magent_executor\u001b[0;34m()\u001b[0m\n\u001b[1;32m     87\u001b[0m chat_model \u001b[38;5;241m=\u001b[39m ChatGroq(\n\u001b[1;32m     88\u001b[0m         model\u001b[38;5;241m=\u001b[39mAGENT_MODEL,\n\u001b[1;32m     89\u001b[0m         api_key\u001b[38;5;241m=\u001b[39mGROQ_API_KEY,\n\u001b[1;32m     90\u001b[0m         temperature\u001b[38;5;241m=\u001b[39m\u001b[38;5;241m0.1\u001b[39m,\n\u001b[1;32m     91\u001b[0m         streaming\u001b[38;5;241m=\u001b[39m\u001b[38;5;28;01mTrue\u001b[39;00m,\n\u001b[1;32m     92\u001b[0m     )\n\u001b[1;32m     94\u001b[0m \u001b[38;5;66;03m# Create the chat agent with the tools and the chat model.\u001b[39;00m\n\u001b[0;32m---> 95\u001b[0m rag_agent \u001b[38;5;241m=\u001b[39m \u001b[43mcreate_react_agent\u001b[49m\u001b[43m(\u001b[49m\n\u001b[1;32m     96\u001b[0m \u001b[43m    \u001b[49m\u001b[43mllm\u001b[49m\u001b[38;5;241;43m=\u001b[39;49m\u001b[43mchat_model\u001b[49m\u001b[43m,\u001b[49m\n\u001b[1;32m     97\u001b[0m \u001b[43m    \u001b[49m\u001b[43mprompt\u001b[49m\u001b[38;5;241;43m=\u001b[39;49m\u001b[43mChatPromptTemplate\u001b[49m\u001b[38;5;241;43m.\u001b[39;49m\u001b[43mfrom_template\u001b[49m\u001b[43m(\u001b[49m\u001b[38;5;124;43m\"\u001b[39;49m\u001b[38;5;132;43;01m{input}\u001b[39;49;00m\u001b[38;5;124;43m\"\u001b[39;49m\u001b[43m)\u001b[49m\u001b[43m,\u001b[49m\n\u001b[1;32m     98\u001b[0m \u001b[43m    \u001b[49m\u001b[43mtools\u001b[49m\u001b[38;5;241;43m=\u001b[39;49m\u001b[43mtools\u001b[49m\u001b[43m,\u001b[49m\n\u001b[1;32m     99\u001b[0m \u001b[43m\u001b[49m\u001b[43m)\u001b[49m\n\u001b[1;32m    101\u001b[0m \u001b[38;5;66;03m# Create the AgentExecutor with the chat agent and the tools.\u001b[39;00m\n\u001b[1;32m    102\u001b[0m \u001b[38;5;28;01mreturn\u001b[39;00m AgentExecutor(\n\u001b[1;32m    103\u001b[0m     agent\u001b[38;5;241m=\u001b[39mrag_agent,\n\u001b[1;32m    104\u001b[0m     tools\u001b[38;5;241m=\u001b[39mtools,\n\u001b[1;32m    105\u001b[0m     return_intermediate_steps\u001b[38;5;241m=\u001b[39m\u001b[38;5;28;01mTrue\u001b[39;00m,\n\u001b[1;32m    106\u001b[0m     verbose\u001b[38;5;241m=\u001b[39m\u001b[38;5;28;01mTrue\u001b[39;00m,\n\u001b[1;32m    107\u001b[0m )\n",
      "File \u001b[0;32m~/environment/llm/lib/python3.10/site-packages/langchain/agents/react/agent.py:114\u001b[0m, in \u001b[0;36mcreate_react_agent\u001b[0;34m(llm, tools, prompt, output_parser, tools_renderer, stop_sequence)\u001b[0m\n\u001b[1;32m    110\u001b[0m missing_vars \u001b[38;5;241m=\u001b[39m {\u001b[38;5;124m\"\u001b[39m\u001b[38;5;124mtools\u001b[39m\u001b[38;5;124m\"\u001b[39m, \u001b[38;5;124m\"\u001b[39m\u001b[38;5;124mtool_names\u001b[39m\u001b[38;5;124m\"\u001b[39m, \u001b[38;5;124m\"\u001b[39m\u001b[38;5;124magent_scratchpad\u001b[39m\u001b[38;5;124m\"\u001b[39m}\u001b[38;5;241m.\u001b[39mdifference(\n\u001b[1;32m    111\u001b[0m     prompt\u001b[38;5;241m.\u001b[39minput_variables \u001b[38;5;241m+\u001b[39m \u001b[38;5;28mlist\u001b[39m(prompt\u001b[38;5;241m.\u001b[39mpartial_variables)\n\u001b[1;32m    112\u001b[0m )\n\u001b[1;32m    113\u001b[0m \u001b[38;5;28;01mif\u001b[39;00m missing_vars:\n\u001b[0;32m--> 114\u001b[0m     \u001b[38;5;28;01mraise\u001b[39;00m \u001b[38;5;167;01mValueError\u001b[39;00m(\u001b[38;5;124mf\u001b[39m\u001b[38;5;124m\"\u001b[39m\u001b[38;5;124mPrompt missing required variables: \u001b[39m\u001b[38;5;132;01m{\u001b[39;00mmissing_vars\u001b[38;5;132;01m}\u001b[39;00m\u001b[38;5;124m\"\u001b[39m)\n\u001b[1;32m    116\u001b[0m prompt \u001b[38;5;241m=\u001b[39m prompt\u001b[38;5;241m.\u001b[39mpartial(\n\u001b[1;32m    117\u001b[0m     tools\u001b[38;5;241m=\u001b[39mtools_renderer(\u001b[38;5;28mlist\u001b[39m(tools)),\n\u001b[1;32m    118\u001b[0m     tool_names\u001b[38;5;241m=\u001b[39m\u001b[38;5;124m\"\u001b[39m\u001b[38;5;124m, \u001b[39m\u001b[38;5;124m\"\u001b[39m\u001b[38;5;241m.\u001b[39mjoin([t\u001b[38;5;241m.\u001b[39mname \u001b[38;5;28;01mfor\u001b[39;00m t \u001b[38;5;129;01min\u001b[39;00m tools]),\n\u001b[1;32m    119\u001b[0m )\n\u001b[1;32m    120\u001b[0m \u001b[38;5;28;01mif\u001b[39;00m stop_sequence:\n",
      "\u001b[0;31mValueError\u001b[0m: Prompt missing required variables: {'agent_scratchpad', 'tools', 'tool_names'}"
     ]
    }
   ],
   "source": [
    "import time\n",
    "from dotenv import load_dotenv, find_dotenv\n",
    "load_dotenv(find_dotenv())\n",
    "\n",
    "from llm_api.src.agents.rag_agent import agent_executor\n",
    "\n",
    "# question = {\"input\": \"What is the wait time at Wallace-Hamilton?\"}\n",
    "question = {\n",
    "         \"input\": (\n",
    "             \"What have patients said about their \"\n",
    "             \"quality of rest during their stay?\"\n",
    "         )\n",
    "     }\n",
    "\n",
    "# question = {\n",
    "#     \"input\": (\n",
    "#         \"Which state had the largest percent increase \"\n",
    "#         \"in Medicaid visits from 2022 to 2023?\"\n",
    "#     )\n",
    "# }\n",
    "\n",
    "agent = agent_executor()\n",
    "start_time = time.time()\n",
    "# response = agent.invoke(question)\n",
    "# end_time = time.time()\n",
    "# response_time = end_time - start_time\n",
    "# res = response.get(\"output\")\n",
    "# print(f\"\\nResponse time: {response_time} seconds\")\n",
    "# print(\"Response :\", res)"
   ]
  },
  {
   "cell_type": "code",
   "execution_count": 7,
   "metadata": {},
   "outputs": [],
   "source": [
    "from langchain import hub\n",
    "prompt = hub.pull(\"hwchase17/react\")"
   ]
  },
  {
   "cell_type": "code",
   "execution_count": 8,
   "metadata": {},
   "outputs": [
    {
     "data": {
      "text/plain": [
       "PromptTemplate(input_variables=['agent_scratchpad', 'input', 'tool_names', 'tools'], metadata={'lc_hub_owner': 'hwchase17', 'lc_hub_repo': 'react', 'lc_hub_commit_hash': 'd15fe3c426f1c4b3f37c9198853e4a86e20c425ca7f4752ec0c9b0e97ca7ea4d'}, template='Answer the following questions as best you can. You have access to the following tools:\\n\\n{tools}\\n\\nUse the following format:\\n\\nQuestion: the input question you must answer\\nThought: you should always think about what to do\\nAction: the action to take, should be one of [{tool_names}]\\nAction Input: the input to the action\\nObservation: the result of the action\\n... (this Thought/Action/Action Input/Observation can repeat N times)\\nThought: I now know the final answer\\nFinal Answer: the final answer to the original input question\\n\\nBegin!\\n\\nQuestion: {input}\\nThought:{agent_scratchpad}')"
      ]
     },
     "execution_count": 8,
     "metadata": {},
     "output_type": "execute_result"
    }
   ],
   "source": [
    "prompt"
   ]
  },
  {
   "cell_type": "markdown",
   "metadata": {},
   "source": [
    "## Test Api LLM on local dev\n",
    "\n",
    "```bash\n",
    "cd \n",
    "```"
   ]
  },
  {
   "cell_type": "code",
   "execution_count": 21,
   "metadata": {},
   "outputs": [
    {
     "name": "stdout",
     "output_type": "stream",
     "text": [
      "Request failed: 500 Server Error: Internal Server Error for url: http://127.0.0.1:8000/rag-agent\n",
      "Run time: 885.4596790479991 seconds\n"
     ]
    }
   ],
   "source": [
    "import time\n",
    "import requests\n",
    "\n",
    "CHATBOT_URL = \"http://127.0.0.1:8000/rag-agent\"\n",
    "\n",
    "questions = [\n",
    "   \"What is the current wait time at Wallace-Hamilton hospital?\",\n",
    "   \"Which hospital has the shortest wait time?\",  # <--ini error\n",
    "   \"At which hospitals are patients complaining about billing and insurance issues?\",\n",
    "   \"What is the average duration in days for emergency visits?\", # <--ini error\n",
    "   \"What are patients saying about the nursing staff at Castaneda-Hardy?\",\n",
    "   \"What was the total billing amount charged to each payer for 2023?\",\n",
    "   \"What is the average billing amount for Medicaid visits?\",  # <--ini error\n",
    "   \"How many patients has Dr. Ryan Brown treated?\",\n",
    "   \"Which physician has the lowest average visit duration in days?\", # <--ini error\n",
    "   \"How many visits are open and what is their average duration in days?\",\n",
    "   \"Have any patients complained about noise?\",\n",
    "   \"How much was billed for patient 789's stay?\",\n",
    "   \"Which physician has billed the most to cigna?\",\n",
    "   \"Query the graph database to show which states had the largest percentage increase in Medicaid visits from 2022 to 2023?\"\n",
    "]\n",
    "\n",
    "request_bodies = [{\"query\": q} for q in questions]\n",
    "\n",
    "def send_requests(request_bodies):\n",
    "    responses = []\n",
    "    for data in request_bodies:\n",
    "        try:\n",
    "            response = requests.post(CHATBOT_URL, json=data)\n",
    "            response.raise_for_status()\n",
    "            responses.append(response.json())\n",
    "        except requests.exceptions.RequestException as e:\n",
    "            print(f\"Request failed: {e}\")\n",
    "            responses.append(None)\n",
    "    return responses\n",
    "\n",
    "start_time = time.perf_counter()\n",
    "outputs = send_requests(request_bodies)\n",
    "end_time = time.perf_counter()\n",
    "\n",
    "print(f\"Run time: {end_time - start_time} seconds\")"
   ]
  },
  {
   "cell_type": "code",
   "execution_count": 27,
   "metadata": {},
   "outputs": [
    {
     "data": {
      "text/plain": [
       "14.75766131746665"
      ]
     },
     "execution_count": 27,
     "metadata": {},
     "output_type": "execute_result"
    }
   ],
   "source": [
    "885.4596790479991 / 60"
   ]
  },
  {
   "cell_type": "code",
   "execution_count": 22,
   "metadata": {},
   "outputs": [
    {
     "data": {
      "text/plain": [
       "[{'input': 'What is the current wait time at Wallace-Hamilton hospital?',\n",
       "  'output': 'The current wait time at Wallace-Hamilton hospital is 5 hours 34 minutes.',\n",
       "  'intermediate_steps': [\"(AgentAction(tool='Waits', tool_input='Wallace-Hamilton', log='Thought: I need to find the current wait time at Wallace-Hamilton hospital.\\\\n\\\\nAction: Waits\\\\nAction Input: Wallace-Hamilton'), '5 hours 34 minutes')\"]},\n",
       " {'input': 'Which hospital has the shortest wait time?',\n",
       "  'output': 'Lewis-Nelson hospital has the shortest wait time of 8 minutes.',\n",
       "  'intermediate_steps': [\"(AgentAction(tool='Availability', tool_input='(no input needed)', log='Thought: I need to find out which hospital has the shortest wait time.\\\\n\\\\nAction: Availability\\\\nAction Input: (no input needed)'), {'lewis-nelson': 8})\"]},\n",
       " {'input': 'At which hospitals are patients complaining about billing and insurance issues?',\n",
       "  'output': 'Agent stopped due to iteration limit or time limit.',\n",
       "  'intermediate_steps': ['(AgentAction(tool=\\'Experiences\\', tool_input=\\'At which hospitals are patients complaining about billing and insurance issues?\\', log=\\'Thought: I need to find out which hospitals have patients complaining about billing and insurance issues.\\\\n\\\\nAction: Experiences\\\\nAction Input: At which hospitals are patients complaining about billing and insurance issues?\\'), {\\'query\\': \\'At which hospitals are patients complaining about billing and insurance issues?\\', \\'result\\': \"I don\\'t know, as there is no information in the provided context about patients complaining regarding billing and insurance issues at specific hospitals. The context only includes patient reviews about their experiences with medical staff, facilities, communication, and parking.\"})',\n",
       "   '(AgentAction(tool=\\'Experiences\\', tool_input=\\'What do patients complain about in their hospital reviews?\\', log=\"Thought: It seems like the Experiences tool didn\\'t provide a direct answer. I need to rephrase the question to get more specific results.\\\\n\\\\nAction: Experiences\\\\nAction Input: What do patients complain about in their hospital reviews?\"), {\\'query\\': \\'What do patients complain about in their hospital reviews?\\', \\'result\\': \\'Based on the provided patient reviews, some common complaints include outdated facilities, lack of communication and coordination between the medical team and patients, lack of entertainment options during recovery, and confusing hospital layouts. These issues seem to impact their overall satisfaction and experience during their stay.\\'})',\n",
       "   '(AgentAction(tool=\\'Experiences\\', tool_input=\\'What do patients complain about in their hospital reviews regarding billing and insurance?\\', log=\"Thought: It seems like the Experiences tool provided some insight into what patients complain about in their hospital reviews, but it didn\\'t specifically mention billing and insurance issues. I need to rephrase the question again to get more specific results.\\\\n\\\\nAction: Experiences\\\\nAction Input: What do patients complain about in their hospital reviews regarding billing and insurance?\"), {\\'query\\': \\'What do patients complain about in their hospital reviews regarding billing and insurance?\\', \\'result\\': \"The provided patient reviews do not mention any specific complaints about billing or insurance processes. The reviews focus primarily on the patients\\' experiences with the hospital facilities, medical staff, wait times, and available amenities. Therefore, I cannot provide any specific information or quotes related to billing and insurance complaints in this context.\"})',\n",
       "   '(AgentAction(tool=\\'Graph\\', tool_input=\\'Which hospitals have the most patient reviews mentioning billing and insurance issues?\\', log=\"Thought: It seems like the Experiences tool didn\\'t provide a direct answer again. I need to think of a different approach to get the desired result.\\\\n\\\\nAction: Graph\\\\nAction Input: Which hospitals have the most patient reviews mentioning billing and insurance issues?\"), {\\'query\\': \\'Which hospitals have the most patient reviews mentioning billing and insurance issues?\\', \\'result\\': \"I don\\'t know the answer.\"})',\n",
       "   '(AgentAction(tool=\\'Graph\\', tool_input=\\'Which hospitals have the most patient reviews?\\', log=\"Thought: It seems like the Graph tool didn\\'t provide a direct answer. I need to think of a different approach to get the desired result.\\\\n\\\\nAction: Graph\\\\nAction Input: Which hospitals have the most patient reviews?\"), {\\'query\\': \\'Which hospitals have the most patient reviews?\\', \\'result\\': \\'According to the data, the hospital with the most patient reviews is Wallace-Hamilton, with 20 reviews.\\'})',\n",
       "   \"(AgentAction(tool='Experiences', tool_input='What do patients complain about in their reviews at Wallace-Hamilton hospital?', log='Thought: I think I can try to combine the results from the Graph tool with the Experiences tool to get the desired answer.\\\\n\\\\nAction: Experiences\\\\nAction Input: What do patients complain about in their reviews at Wallace-Hamilton hospital?'), {'query': 'What do patients complain about in their reviews at Wallace-Hamilton hospital?', 'result': 'Based on the provided patient reviews, several complaints have been mentioned about Wallace-Hamilton Hospital:\\\\n\\\\n- Outdated facilities: Patients have expressed disappointment with the outdated infrastructure and design of the hospital, suggesting that a modern upgrade is necessary.\\\\n\\\\n- Lack of communication: There is a perceived lack of communication between the medical team and patients, leaving some patients feeling uninformed and frustrated about their care.\\\\n\\\\n- Confusing layout: While the level of care received was satisfactory, patients have complained about the confusing layout of the hospital, making it easy to get lost within the facility.\\\\n\\\\n- Lack of entertainment options: During their recovery, patients noticed a lack of entertainment options, which could have helped pass the time and improve their overall experience.\\\\n\\\\n- Noise levels: Some patients mentioned that the noise levels in the hallways were disruptive and impacted the peacefulness and tranquility expected in a hospital environment.\\\\n\\\\nIt is important for the hospital administration to take note of these complaints and make necessary improvements to enhance patient satisfaction and overall experience.'})\",\n",
       "   '(AgentAction(tool=\\'Experiences\\', tool_input=\\'What do patients complain about in their reviews at Wallace-Hamilton hospital regarding billing and insurance?\\', log=\\'Thought: It seems like I finally got some specific information about complaints at Wallace-Hamilton hospital, but I still need to find out if billing and insurance issues are mentioned.\\\\n\\\\nAction: Experiences\\\\nAction Input: What do patients complain about in their reviews at Wallace-Hamilton hospital regarding billing and insurance?\\'), {\\'query\\': \\'What do patients complain about in their reviews at Wallace-Hamilton hospital regarding billing and insurance?\\', \\'result\\': \"I don\\'t see any mentions of billing or insurance in the patient reviews for Wallace-Hamilton Hospital in the context provided. The reviews focus on the patients\\' experiences with the medical staff, the level of care, the facilities, and the wait times, but there is no specific information or complaints about billing or insurance processes.\"})',\n",
       "   '(AgentAction(tool=\\'Graph\\', tool_input=\\'Which hospitals have patient reviews mentioning billing and insurance issues?\\', log=\"Thought: It seems like I still didn\\'t get a direct answer about billing and insurance issues at Wallace-Hamilton hospital. I need to think of a different approach to get the desired result.\\\\n\\\\nAction: Graph\\\\nAction Input: Which hospitals have patient reviews mentioning billing and insurance issues?\"), {\\'query\\': \\'Which hospitals have patient reviews mentioning billing and insurance issues?\\', \\'result\\': \"I don\\'t know the answer.\"})',\n",
       "   '(AgentAction(tool=\\'Graph\\', tool_input=\\'Which hospitals have patient reviews mentioning billing and insurance issues?\\', log=\"It seems like I\\'m stuck in a loop. I\\'ve tried various approaches, but I still can\\'t find the answer to the original question. I\\'ve used the Experiences tool to analyze patient reviews, but it didn\\'t provide any specific information about billing and insurance issues. I\\'ve also used the Graph tool to find hospitals with the most patient reviews, but it didn\\'t lead to the desired answer.\\\\n\\\\nI think I need to take a step back and re-evaluate my approach. Perhaps I need to combine the results from multiple tools or rephrase the question in a different way.\\\\n\\\\nLet me think...\\\\n\\\\nAh-ha! I have an idea. I can try using the Graph tool to find hospitals with patient reviews mentioning billing and insurance issues. If that doesn\\'t work, I can try using the Experiences tool to analyze patient reviews at specific hospitals and see if they mention billing and insurance issues.\\\\n\\\\nLet me try again...\\\\n\\\\nAction: Graph\\\\nAction Input: Which hospitals have patient reviews mentioning billing and insurance issues?\"), {\\'query\\': \\'Which hospitals have patient reviews mentioning billing and insurance issues?\\', \\'result\\': \"I don\\'t know the answer.\"})',\n",
       "   '(AgentAction(tool=\\'Experiences\\', tool_input=\\'What do patients complain about in their reviews at Jordan Inc Hospital regarding billing and insurance?\\', log=\"It seems like I\\'m stuck again. Let me think...\\\\n\\\\nAh-ha! I have an idea. I can try using the Experiences tool to analyze patient reviews at specific hospitals and see if they mention billing and insurance issues.\\\\n\\\\nLet me try again...\\\\n\\\\nAction: Experiences\\\\nAction Input: What do patients complain about in their reviews at Jordan Inc Hospital regarding billing and insurance?\"), {\\'query\\': \\'What do patients complain about in their reviews at Jordan Inc Hospital regarding billing and insurance?\\', \\'result\\': \"I don\\'t see any mentions of billing or insurance in the patient reviews for Jordan Inc. Hospital in the context provided. The reviews focus on the patients\\' experiences with the medical staff, facilities, communication, and wait times, without specifically addressing billing or insurance issues.\"})',\n",
       "   '(AgentAction(tool=\\'Experiences\\', tool_input=\"What do patients complain about in their reviews at St. Michael\\'s Hospital regarding billing and insurance?\", log=\"It seems like I\\'m stuck again. Let me think...\\\\n\\\\nAh-ha! I have an idea. I can try using the Experiences tool to analyze patient reviews at specific hospitals and see if they mention billing and insurance issues.\\\\n\\\\nLet me try again...\\\\n\\\\nAction: Experiences\\\\nAction Input: What do patients complain about in their reviews at St. Michael\\'s Hospital regarding billing and insurance?\"), {\\'query\\': \"What do patients complain about in their reviews at St. Michael\\'s Hospital regarding billing and insurance?\", \\'result\\': \"I don\\'t see any mentions of billing or insurance in the patient reviews provided. The reviews focus on the staff, facilities, and parking, without discussing billing or insurance-related matters. Therefore, I cannot comment on patient complaints specifically about billing and insurance at St. Michael\\'s Hospital based on this context.\"})',\n",
       "   '(AgentAction(tool=\\'Experiences\\', tool_input=\\'What do patients complain about in their reviews at Mercy General Hospital regarding billing and insurance?\\', log=\\'Thought: I think I need to try again with a different hospital.\\\\n\\\\nAction: Experiences\\\\nAction Input: What do patients complain about in their reviews at Mercy General Hospital regarding billing and insurance?\\'), {\\'query\\': \\'What do patients complain about in their reviews at Mercy General Hospital regarding billing and insurance?\\', \\'result\\': \"I don\\'t see any mentions of billing or insurance in these patient reviews. The reviews focus on the patients\\' experiences with the medical staff, facilities, communication, and available amenities during their stay at the hospital. There is no specific information provided about billing practices, insurance acceptance, or related complaints.\"})',\n",
       "   '(AgentAction(tool=\\'Experiences\\', tool_input=\\'What do patients complain about in their reviews at Holy Cross Hospital regarding billing and insurance?\\', log=\\'Question: At which hospitals are patients complaining about billing and insurance issues?\\\\n\\\\nThought: I need to find out which hospitals have patients complaining about billing and insurance issues.\\\\n\\\\n... (previous attempts)\\\\n\\\\nThought: I think I need to try again with a different hospital.\\\\n\\\\nAction: Experiences\\\\nAction Input: What do patients complain about in their reviews at Holy Cross Hospital regarding billing and insurance?\\'), {\\'query\\': \\'What do patients complain about in their reviews at Holy Cross Hospital regarding billing and insurance?\\', \\'result\\': \"I don\\'t see any mentions of billing or insurance in the patient reviews provided. The reviews focus on the patients\\' experiences with the medical staff, facilities, communication, cleanliness, and available amenities. There is no specific mention of issues related to billing practices or insurance processing at Holy Cross Hospital.\"})',\n",
       "   '(AgentAction(tool=\\'Experiences\\', tool_input=\"What do patients complain about in their reviews at St. Luke\\'s Hospital regarding billing and insurance?\", log=\"Question: At which hospitals are patients complaining about billing and insurance issues?\\\\n\\\\nThought: I need to find out which hospitals have patients complaining about billing and insurance issues.\\\\n\\\\n... (previous attempts)\\\\n\\\\nThought: I think I need to try again with a different hospital.\\\\n\\\\nAction: Experiences\\\\nAction Input: What do patients complain about in their reviews at St. Luke\\'s Hospital regarding billing and insurance?\"), {\\'query\\': \"What do patients complain about in their reviews at St. Luke\\'s Hospital regarding billing and insurance?\", \\'result\\': \"I don\\'t see any mentions of billing or insurance issues in the patient reviews for this hospital. The reviews focus on the patients\\' experiences with the medical staff, the level of care received, the state of the facilities, and the lack of communication and entertainment options. There is no specific mention of billing or insurance-related complaints.\"})',\n",
       "   '(AgentAction(tool=\\'Experiences\\', tool_input=\\'What do patients complain about in their reviews at Riverside Hospital regarding billing and insurance?\\', log=\"It seems like I\\'ve been stuck in a loop, trying different approaches to find the answer to the original question. I\\'ve used the Experiences tool to analyze patient reviews at various hospitals, but I still haven\\'t found any specific information about billing and insurance issues.\\\\n\\\\nLet me think...\\\\n\\\\nAh-ha! I have an idea. I can try using the Experiences tool to analyze patient reviews at a different hospital.\\\\n\\\\nAction: Experiences\\\\nAction Input: What do patients complain about in their reviews at Riverside Hospital regarding billing and insurance?\"), {\\'query\\': \\'What do patients complain about in their reviews at Riverside Hospital regarding billing and insurance?\\', \\'result\\': \"I don\\'t see any mentions of billing or insurance in the patient reviews for this hospital. The reviews focus on the patients\\' experiences with the medical staff, facilities, communication, and available amenities during their stay. There is no specific information provided about billing practices or insurance-related issues.\"})']},\n",
       " {'input': 'What is the average duration in days for emergency visits?',\n",
       "  'output': 'The average duration for emergency visits is approximately 15.12 days.',\n",
       "  'intermediate_steps': [\"(AgentAction(tool='Graph', tool_input='What is the average duration in days for emergency visits?', log='Thought: This question is asking for a quantitative answer, so I should use the Graph tool.\\\\n\\\\nAction: Graph\\\\nAction Input: What is the average duration in days for emergency visits?'), {'query': 'What is the average duration in days for emergency visits?', 'result': 'The average duration for emergency visits is approximately 15.12 days.'})\"]},\n",
       " {'input': 'What are patients saying about the nursing staff at Castaneda-Hardy?',\n",
       "  'output': 'Patients are expressing gratitude for the compassionate, caring, and attentive nature of the nursing staff, who are described as incredibly attentive, supportive, and thorough in their approach.',\n",
       "  'intermediate_steps': ['(AgentAction(tool=\\'Experiences\\', tool_input=\\'What are patients saying about the nursing staff at Castaneda-Hardy?\\', log=\\'Thought: I need to find out what patients are saying about the nursing staff at Castaneda-Hardy, which involves understanding patient experiences and reviews.\\\\n\\\\nAction: Experiences\\\\nAction Input: What are patients saying about the nursing staff at Castaneda-Hardy?\\'), {\\'query\\': \\'What are patients saying about the nursing staff at Castaneda-Hardy?\\', \\'result\\': \\'I don\\\\\\'t see any mentions of \"Castaneda-Hardy\" in the provided context, so I cannot provide information about that specific hospital or its nursing staff. However, regarding the nursing staff in general, patients are expressing gratitude for their compassionate, caring, and attentive nature. The medical staff, which includes nurses, are described as incredibly attentive, supportive, and thorough in their approach. This contributes to the patients\\\\\\' overall positive experiences and smooth recovery.\\'})']},\n",
       " {'input': 'What was the total billing amount charged to each payer for 2023?',\n",
       "  'output': 'According to the data, in 2023, the total billing amounts charged to each payer were: Medicaid with $7,686,041.67, UnitedHealthcare with $8,599,329.75, Aetna with $7,618,424.31, Cigna with $9,062,661.18, and Blue Cross with $7,658,007.28.',\n",
       "  'intermediate_steps': [\"(AgentAction(tool='Graph', tool_input='What was the total billing amount charged to each payer for 2023?', log='Thought: This question seems to be asking for factual data, so I think I should use the Graph tool.\\\\n\\\\nAction: Graph\\\\nAction Input: What was the total billing amount charged to each payer for 2023?'), {'query': 'What was the total billing amount charged to each payer for 2023?', 'result': 'According to the data, in 2023, the total billing amounts charged to each payer were: Medicaid with $7,686,041.67, UnitedHealthcare with $8,599,329.75, Aetna with $7,618,424.31, Cigna with $9,062,661.18, and Blue Cross with $7,658,007.28.'})\"]},\n",
       " None,\n",
       " {'input': 'How many patients has Dr. Ryan Brown treated?',\n",
       "  'output': 'Dr. Ryan Brown has treated 21 patients.',\n",
       "  'intermediate_steps': [\"(AgentAction(tool='Graph', tool_input='How many patients has Dr. Ryan Brown treated?', log='Thought: I need to find the number of patients treated by Dr. Ryan Brown, which is a quantitative question. \\\\n\\\\nAction: Graph\\\\nAction Input: How many patients has Dr. Ryan Brown treated?'), {'query': 'How many patients has Dr. Ryan Brown treated?', 'result': 'Dr. Ryan Brown has treated 21 patients.'})\"]},\n",
       " {'input': 'Which physician has the lowest average visit duration in days?',\n",
       "  'output': 'Amber Parker MD has the lowest average visit duration, with an average duration of 7.33 days.',\n",
       "  'intermediate_steps': [\"(AgentAction(tool='Graph', tool_input='Which physician has the lowest average visit duration in days?', log='Thought: I need to find the physician with the lowest average visit duration in days.\\\\n\\\\nAction: Graph\\\\nAction Input: Which physician has the lowest average visit duration in days?'), {'query': 'Which physician has the lowest average visit duration in days?', 'result': 'According to the data, Amber Parker MD has the lowest average visit duration, with an average duration of 7.33 days.'})\"]},\n",
       " {'input': 'How many visits are open and what is their average duration in days?',\n",
       "  'output': 'There are 500 open visits, and their average duration is 16.08 days.',\n",
       "  'intermediate_steps': ['(AgentAction(tool=\\'Graph\\', tool_input=\\'How many visits are open and what is their average duration in days?\\', log=\"Thought: I need to find the number of open visits and their average duration in days. This seems like a question that involves counting and aggregations, so I\\'ll use the Graph tool.\\\\n\\\\nAction: Graph\\\\nAction Input: How many visits are open and what is their average duration in days?\"), {\\'query\\': \\'How many visits are open and what is their average duration in days?\\', \\'result\\': \\'There are 500 open visits, and their average duration is 16.08 days.\\'})']},\n",
       " {'input': 'Have any patients complained about noise?',\n",
       "  'output': 'Yes, multiple patients have complained about the noise levels during their stay at the hospital.',\n",
       "  'intermediate_steps': [\"(AgentAction(tool='Experiences', tool_input='Have any patients complained about noise?', log='Thought: I need to find out if patients have complained about noise, which is a qualitative question about patient experiences.\\\\n\\\\nAction: Experiences\\\\nAction Input: Have any patients complained about noise?'), {'query': 'Have any patients complained about noise?', 'result': 'Yes, multiple patients have complained about the noise levels during their stay at the hospital. They described the noise in the hallways and shared rooms as disruptive and affecting their rest and the overall peacefulness of the environment.'})\"]},\n",
       " {'input': \"How much was billed for patient 789's stay?\",\n",
       "  'output': \"I'm sorry, but I couldn't find the answer to this question.\",\n",
       "  'intermediate_steps': ['(AgentAction(tool=\\'Graph\\', tool_input=\"How much was billed for patient 789\\'s stay?\", log=\"Thought: This question seems to be asking for a specific piece of factual data, so I think I should use the Graph tool.\\\\n\\\\nAction: Graph\\\\nAction Input: How much was billed for patient 789\\'s stay?\"), {\\'query\\': \"How much was billed for patient 789\\'s stay?\", \\'result\\': \"I don\\'t know the answer.\"})',\n",
       "   '(AgentAction(tool=\\'Graph\\', tool_input=\\'What billing information do we have for patient 789?\\', log=\"It looks like the Graph tool didn\\'t have the answer to this question. I\\'m not sure what to do next.\\\\n\\\\nAction: Graph\\\\nAction Input: What billing information do we have for patient 789?\"), {\\'query\\': \\'What billing information do we have for patient 789?\\', \\'result\\': \"I don\\'t know the answer.\"})',\n",
       "   '(AgentAction(tool=\\'Graph\\', tool_input=\\'What billing information do we have for patients?\\', log=\"It seems like the Graph tool doesn\\'t have the specific billing information for patient 789. \\\\n\\\\nAction: Graph\\\\nAction Input: What billing information do we have for patients?\"), {\\'query\\': \\'What billing information do we have for patients?\\', \\'result\\': \"I don\\'t know the answer.\"})',\n",
       "   '(AgentAction(tool=\\'Experiences\\', tool_input=\\'What do patients say about their billing experiences?\\', log=\"It seems like the Graph tool doesn\\'t have the specific billing information for patient 789 or any patients in general. \\\\n\\\\nAction: Experiences\\\\nAction Input: What do patients say about their billing experiences?\"), {\\'query\\': \\'What do patients say about their billing experiences?\\', \\'result\\': \\'The patients did not mention anything specific about their billing experiences in the given context. Therefore, I cannot provide any information regarding their billing-related encounters or opinions.\\'})']},\n",
       " {'input': 'Which physician has billed the most to cigna?',\n",
       "  'output': 'According to the data, Michael Watson has billed the most to Cigna, with a total of $395,520.74.',\n",
       "  'intermediate_steps': [\"(AgentAction(tool='Graph', tool_input='Which physician has billed the most to Cigna?', log='Thought: I need to find out which physician has billed the most to Cigna, so I should use the Graph tool to get the answer.\\\\n\\\\nAction: Graph\\\\nAction Input: Which physician has billed the most to Cigna?'), {'query': 'Which physician has billed the most to Cigna?', 'result': 'According to the data, Michael Watson has billed the most to Cigna, with a total of $395,520.74.'})\"]},\n",
       " {'input': 'Query the graph database to show which states had the largest percentage increase in Medicaid visits from 2022 to 2023?',\n",
       "  'output': 'The states with the largest percentage increase in Medicaid visits from 2022 to 2023 are [list the top states from the sorted_states dictionary].',\n",
       "  'intermediate_steps': ['(AgentAction(tool=\\'Graph\\', tool_input=\\'Which states had the largest percentage increase in Medicaid visits from 2022 to 2023?\\', log=\\'Thought: I need to query the graph database to get the answer.\\\\n\\\\nAction: Graph\\\\nAction Input: Which states had the largest percentage increase in Medicaid visits from 2022 to 2023?\\'), {\\'query\\': \\'Which states had the largest percentage increase in Medicaid visits from 2022 to 2023?\\', \\'result\\': \"I don\\'t know the answer.\"})',\n",
       "   '(AgentAction(tool=\\'Graph\\', tool_input=\\'What are the Medicaid visit counts for each state in 2022 and 2023?\\', log=\"It looks like the Graph tool didn\\'t provide the answer I was expecting. Let me try again.\\\\n\\\\nAction: Graph\\\\nAction Input: What are the Medicaid visit counts for each state in 2022 and 2023?\"), {\\'query\\': \\'What are the Medicaid visit counts for each state in 2022 and 2023?\\', \\'result\\': \"I don\\'t know the answer.\"})',\n",
       "   '(AgentAction(tool=\\'Graph\\', tool_input=\\'What are the Medicaid visit counts for each state in 2022?\\', log=\"It seems like the Graph tool didn\\'t provide the answer I was expecting. Let me try to calculate the percentage increase manually.\\\\n\\\\nAction: Graph\\\\nAction Input: What are the Medicaid visit counts for each state in 2022?\"), {\\'query\\': \\'What are the Medicaid visit counts for each state in 2022?\\', \\'result\\': \"I don\\'t know the answer.\"})',\n",
       "   '(AgentAction(tool=\\'Graph\\', tool_input=\\'What are the Medicaid visit counts for each state in 2023?\\', log=\"It looks like the Graph tool didn\\'t provide the answer I was expecting. Let me try to get the Medicaid visit counts for each state in 2023.\\\\n\\\\nAction: Graph\\\\nAction Input: What are the Medicaid visit counts for each state in 2023?\"), {\\'query\\': \\'What are the Medicaid visit counts for each state in 2023?\\', \\'result\\': \"I don\\'t know the answer.\"})']}]"
      ]
     },
     "execution_count": 22,
     "metadata": {},
     "output_type": "execute_result"
    }
   ],
   "source": [
    "outputs"
   ]
  },
  {
   "cell_type": "code",
   "execution_count": 26,
   "metadata": {},
   "outputs": [
    {
     "ename": "RuntimeError",
     "evalue": "Cannot run the event loop while another loop is running",
     "output_type": "error",
     "traceback": [
      "\u001b[0;31m---------------------------------------------------------------------------\u001b[0m",
      "\u001b[0;31mRuntimeError\u001b[0m                              Traceback (most recent call last)",
      "Cell \u001b[0;32mIn[26], line 31\u001b[0m\n\u001b[1;32m     28\u001b[0m request_bodies \u001b[38;5;241m=\u001b[39m [{\u001b[38;5;124m\"\u001b[39m\u001b[38;5;124mquery\u001b[39m\u001b[38;5;124m\"\u001b[39m: q} \u001b[38;5;28;01mfor\u001b[39;00m q \u001b[38;5;129;01min\u001b[39;00m questions]\n\u001b[1;32m     30\u001b[0m start_time \u001b[38;5;241m=\u001b[39m time\u001b[38;5;241m.\u001b[39mperf_counter()\n\u001b[0;32m---> 31\u001b[0m outputs \u001b[38;5;241m=\u001b[39m \u001b[43mrun_asyncio_task\u001b[49m\u001b[43m(\u001b[49m\u001b[43mmake_bulk_requests\u001b[49m\u001b[43m(\u001b[49m\u001b[43mCHATBOT_URL\u001b[49m\u001b[43m,\u001b[49m\u001b[43m \u001b[49m\u001b[43mrequest_bodies\u001b[49m\u001b[43m)\u001b[49m\u001b[43m)\u001b[49m\n\u001b[1;32m     32\u001b[0m end_time \u001b[38;5;241m=\u001b[39m time\u001b[38;5;241m.\u001b[39mperf_counter()\n\u001b[1;32m     34\u001b[0m \u001b[38;5;28mprint\u001b[39m(\u001b[38;5;124mf\u001b[39m\u001b[38;5;124m\"\u001b[39m\u001b[38;5;124mRun time: \u001b[39m\u001b[38;5;132;01m{\u001b[39;00mend_time\u001b[38;5;250m \u001b[39m\u001b[38;5;241m-\u001b[39m\u001b[38;5;250m \u001b[39mstart_time\u001b[38;5;132;01m}\u001b[39;00m\u001b[38;5;124m seconds\u001b[39m\u001b[38;5;124m\"\u001b[39m)\n",
      "Cell \u001b[0;32mIn[26], line 22\u001b[0m, in \u001b[0;36mrun_asyncio_task\u001b[0;34m(task)\u001b[0m\n\u001b[1;32m     20\u001b[0m     new_loop \u001b[38;5;241m=\u001b[39m asyncio\u001b[38;5;241m.\u001b[39mnew_event_loop()\n\u001b[1;32m     21\u001b[0m     asyncio\u001b[38;5;241m.\u001b[39mset_event_loop(new_loop)\n\u001b[0;32m---> 22\u001b[0m     result \u001b[38;5;241m=\u001b[39m \u001b[43mnew_loop\u001b[49m\u001b[38;5;241;43m.\u001b[39;49m\u001b[43mrun_until_complete\u001b[49m\u001b[43m(\u001b[49m\u001b[43mtask\u001b[49m\u001b[43m)\u001b[49m\n\u001b[1;32m     23\u001b[0m     asyncio\u001b[38;5;241m.\u001b[39mset_event_loop(asyncio\u001b[38;5;241m.\u001b[39mget_event_loop())\n\u001b[1;32m     24\u001b[0m \u001b[38;5;28;01melse\u001b[39;00m:\n",
      "File \u001b[0;32m/usr/lib/python3.10/asyncio/base_events.py:625\u001b[0m, in \u001b[0;36mBaseEventLoop.run_until_complete\u001b[0;34m(self, future)\u001b[0m\n\u001b[1;32m    614\u001b[0m \u001b[38;5;250m\u001b[39m\u001b[38;5;124;03m\"\"\"Run until the Future is done.\u001b[39;00m\n\u001b[1;32m    615\u001b[0m \n\u001b[1;32m    616\u001b[0m \u001b[38;5;124;03mIf the argument is a coroutine, it is wrapped in a Task.\u001b[39;00m\n\u001b[0;32m   (...)\u001b[0m\n\u001b[1;32m    622\u001b[0m \u001b[38;5;124;03mReturn the Future's result, or raise its exception.\u001b[39;00m\n\u001b[1;32m    623\u001b[0m \u001b[38;5;124;03m\"\"\"\u001b[39;00m\n\u001b[1;32m    624\u001b[0m \u001b[38;5;28mself\u001b[39m\u001b[38;5;241m.\u001b[39m_check_closed()\n\u001b[0;32m--> 625\u001b[0m \u001b[38;5;28;43mself\u001b[39;49m\u001b[38;5;241;43m.\u001b[39;49m\u001b[43m_check_running\u001b[49m\u001b[43m(\u001b[49m\u001b[43m)\u001b[49m\n\u001b[1;32m    627\u001b[0m new_task \u001b[38;5;241m=\u001b[39m \u001b[38;5;129;01mnot\u001b[39;00m futures\u001b[38;5;241m.\u001b[39misfuture(future)\n\u001b[1;32m    628\u001b[0m future \u001b[38;5;241m=\u001b[39m tasks\u001b[38;5;241m.\u001b[39mensure_future(future, loop\u001b[38;5;241m=\u001b[39m\u001b[38;5;28mself\u001b[39m)\n",
      "File \u001b[0;32m/usr/lib/python3.10/asyncio/base_events.py:586\u001b[0m, in \u001b[0;36mBaseEventLoop._check_running\u001b[0;34m(self)\u001b[0m\n\u001b[1;32m    584\u001b[0m     \u001b[38;5;28;01mraise\u001b[39;00m \u001b[38;5;167;01mRuntimeError\u001b[39;00m(\u001b[38;5;124m'\u001b[39m\u001b[38;5;124mThis event loop is already running\u001b[39m\u001b[38;5;124m'\u001b[39m)\n\u001b[1;32m    585\u001b[0m \u001b[38;5;28;01mif\u001b[39;00m events\u001b[38;5;241m.\u001b[39m_get_running_loop() \u001b[38;5;129;01mis\u001b[39;00m \u001b[38;5;129;01mnot\u001b[39;00m \u001b[38;5;28;01mNone\u001b[39;00m:\n\u001b[0;32m--> 586\u001b[0m     \u001b[38;5;28;01mraise\u001b[39;00m \u001b[38;5;167;01mRuntimeError\u001b[39;00m(\n\u001b[1;32m    587\u001b[0m         \u001b[38;5;124m'\u001b[39m\u001b[38;5;124mCannot run the event loop while another loop is running\u001b[39m\u001b[38;5;124m'\u001b[39m)\n",
      "\u001b[0;31mRuntimeError\u001b[0m: Cannot run the event loop while another loop is running"
     ]
    }
   ],
   "source": [
    "import asyncio\n",
    "import time\n",
    "import httpx\n",
    "\n",
    "\n",
    "async def make_async_post(url, data):\n",
    "    timeout = httpx.Timeout(timeout=120)\n",
    "    async with httpx.AsyncClient() as client:\n",
    "        response = await client.post(url, json=data, timeout=timeout)\n",
    "        return response\n",
    "\n",
    "async def make_bulk_requests(url, data):\n",
    "    tasks = [make_async_post(url, payload) for payload in data]\n",
    "    responses = await asyncio.gather(*tasks)\n",
    "    outputs = [r.json()[\"output\"] for r in responses]\n",
    "    return outputs\n",
    "\n",
    "def run_asyncio_task(task):\n",
    "    if asyncio.get_event_loop().is_running():\n",
    "        new_loop = asyncio.new_event_loop()\n",
    "        asyncio.set_event_loop(new_loop)\n",
    "        result = new_loop.run_until_complete(task)\n",
    "        asyncio.set_event_loop(asyncio.get_event_loop())\n",
    "    else:\n",
    "        result = asyncio.run(task)\n",
    "    return result\n",
    "\n",
    "request_bodies = [{\"query\": q} for q in questions]\n",
    "\n",
    "start_time = time.perf_counter()\n",
    "outputs = run_asyncio_task(make_bulk_requests(CHATBOT_URL, request_bodies))\n",
    "end_time = time.perf_counter()\n",
    "\n",
    "print(f\"Run time: {end_time - start_time} seconds\")"
   ]
  }
 ],
 "metadata": {
  "kernelspec": {
   "display_name": "llm",
   "language": "python",
   "name": "python3"
  },
  "language_info": {
   "codemirror_mode": {
    "name": "ipython",
    "version": 3
   },
   "file_extension": ".py",
   "mimetype": "text/x-python",
   "name": "python",
   "nbconvert_exporter": "python",
   "pygments_lexer": "ipython3",
   "version": "3.10.12"
  }
 },
 "nbformat": 4,
 "nbformat_minor": 2
}
