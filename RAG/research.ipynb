{
 "cells": [
  {
   "cell_type": "code",
   "execution_count": 2,
   "metadata": {},
   "outputs": [],
   "source": [
    "from llm.chatbot import chat_model\n",
    "from langchain.schema.messages import HumanMessage, SystemMessage"
   ]
  },
  {
   "cell_type": "code",
   "execution_count": 4,
   "metadata": {},
   "outputs": [
    {
     "data": {
      "text/plain": [
       "\"Medicaid managed care is a system where state Medicaid programs contract with managed care organizations (MCOs) to provide healthcare services to Medicaid enrollees. In this model, the MCOs assume the risk and responsibility for providing a defined set of healthcare services to enrolled Medicaid beneficiaries, often in exchange for a fixed monthly payment per member.\\n\\nUnder Medicaid managed care, enrollees typically choose a primary care provider (PCP) from a network of participating healthcare providers who coordinate their care. The MCOs manage the delivery of healthcare services, including authorizing and paying for medically necessary services, coordinating specialty care, and emphasizing preventive care.\\n\\nMedicaid managed care plans can vary in their specific designs and may include models such as:\\n\\n1. Health Maintenance Organizations (HMOs): Enrollees typically need to seek care from providers within the HMO's network, except in emergencies.\\n\\n2. Preferred Provider Organizations (PPOs): Enrollees can use providers outside the network but typically pay more for those services.\\n\\n3. Primary Care Case Management (PCCM) Models: These plans emphasize the role of the primary care provider in coordinating and managing the enrollee's care.\\n\\nThe goal of Medicaid managed care is to improve access to healthcare services, enhance care coordination, and potentially reduce costs for Medicaid programs by emphasizing preventive care and managing the utilization of healthcare services.\""
      ]
     },
     "execution_count": 4,
     "metadata": {},
     "output_type": "execute_result"
    }
   ],
   "source": [
    "messages = [\n",
    "     SystemMessage(\n",
    "         content=\"\"\"You're an assistant knowledgeable about\n",
    "         healthcare. Only answer healthcare-related questions.\"\"\"\n",
    "     ),\n",
    "     HumanMessage(content=\"What is Medicaid managed care?\"),\n",
    "]\n",
    "chat_model.invoke(messages).content"
   ]
  },
  {
   "cell_type": "code",
   "execution_count": 11,
   "metadata": {},
   "outputs": [
    {
     "data": {
      "text/plain": [
       "[SystemMessage(content=\"Your job is to use patient\\nreviews to answer questions about their experience at a\\nhospital. Use the following context to answer questions.\\nBe as detailed as possible, but don't make up any information\\nthat's not from the context. If you don't know an answer, say\\nyou don't know.\\n\\nI had a great stay!\\n\"),\n",
       " HumanMessage(content='Did anyone have a positive experience?')]"
      ]
     },
     "execution_count": 11,
     "metadata": {},
     "output_type": "execute_result"
    }
   ],
   "source": [
    "from langchain.prompts import (\n",
    "    PromptTemplate,\n",
    "    SystemMessagePromptTemplate,\n",
    "    HumanMessagePromptTemplate,\n",
    "    ChatPromptTemplate,\n",
    ")\n",
    "\n",
    "review_system_template_str = \"\"\"Your job is to use patient\n",
    "reviews to answer questions about their experience at a\n",
    "hospital. Use the following context to answer questions.\n",
    "Be as detailed as possible, but don't make up any information\n",
    "that's not from the context. If you don't know an answer, say\n",
    "you don't know.\n",
    "\n",
    "{context}\n",
    "\"\"\"\n",
    "\n",
    "review_system_prompt = SystemMessagePromptTemplate(\n",
    "    prompt=PromptTemplate(\n",
    "        input_variables=[\"context\"], template=review_system_template_str\n",
    "    )\n",
    ")\n",
    "\n",
    "review_human_prompt = HumanMessagePromptTemplate(\n",
    "    prompt=PromptTemplate(\n",
    "        input_variables=[\"question\"], template=\"{question}\"\n",
    "    )\n",
    ")\n",
    "\n",
    "messages = [review_system_prompt, review_human_prompt]\n",
    "review_prompt_template = ChatPromptTemplate(\n",
    "    input_variables=[\"context\", \"question\"],\n",
    "    messages=messages,\n",
    ")\n",
    "context = \"I had a great stay!\"\n",
    "question = \"Did anyone have a positive experience?\"\n",
    "\n",
    "review_prompt_template.format_messages(context=context, question=question)"
   ]
  },
  {
   "cell_type": "code",
   "execution_count": 12,
   "metadata": {},
   "outputs": [],
   "source": [
    "import os\n",
    "import pandas as pd\n",
    "from dotenv import load_dotenv, find_dotenv\n",
    "\n",
    "\n",
    "load_dotenv(find_dotenv())\n",
    "COHERE_API_KEY = os.environ[\"COHERE_API_KEY\"]\n",
    "REVIEWS_CSV_PATH = \"data/reviews.csv\"\n",
    "REVIEWS_CHROMA_PATH = \"llm/chroma_data\"\n",
    "\n",
    "\n",
    "# loader = CSVLoader(file_path=REVIEWS_CSV_PATH, source_column=\"review\")\n",
    "# reviews = loader.load()\n",
    "\n",
    "# reviews_vector_db = Chroma.from_documents(\n",
    "#     reviews, CohereEmbeddings(), persist_directory=REVIEWS_CHROMA_PATH\n",
    "# )"
   ]
  },
  {
   "cell_type": "markdown",
   "metadata": {},
   "source": [
    "## Concat DataFrame"
   ]
  },
  {
   "cell_type": "code",
   "execution_count": 13,
   "metadata": {},
   "outputs": [
    {
     "name": "stdout",
     "output_type": "stream",
     "text": [
      "<class 'pandas.core.frame.DataFrame'>\n",
      "RangeIndex: 1005 entries, 0 to 1004\n",
      "Data columns (total 6 columns):\n",
      " #   Column          Non-Null Count  Dtype \n",
      "---  ------          --------------  ----- \n",
      " 0   review_id       1005 non-null   int64 \n",
      " 1   visit_id        1005 non-null   int64 \n",
      " 2   review          1005 non-null   object\n",
      " 3   physician_name  1005 non-null   object\n",
      " 4   hospital_name   1005 non-null   object\n",
      " 5   patient_name    1005 non-null   object\n",
      "dtypes: int64(2), object(4)\n",
      "memory usage: 47.2+ KB\n"
     ]
    }
   ],
   "source": [
    "data = pd.read_csv(\"data/reviews.csv\")\n",
    "data.info()"
   ]
  },
  {
   "cell_type": "code",
   "execution_count": 16,
   "metadata": {},
   "outputs": [],
   "source": [
    "data = data[:20]\n",
    "data.to_csv(\"data/reviews_20.csv\", index=False)"
   ]
  },
  {
   "cell_type": "markdown",
   "metadata": {},
   "source": [
    "## MultiVector"
   ]
  },
  {
   "cell_type": "code",
   "execution_count": 48,
   "metadata": {},
   "outputs": [],
   "source": [
    "from langchain.storage import InMemoryByteStore\n",
    "from langchain.document_loaders.csv_loader import CSVLoader\n",
    "from langchain_community.vectorstores import Chroma\n",
    "from langchain_cohere import CohereEmbeddings\n",
    "from langchain.retrievers.multi_vector import MultiVectorRetriever\n",
    "from langchain_text_splitters import RecursiveCharacterTextSplitter"
   ]
  },
  {
   "cell_type": "code",
   "execution_count": 49,
   "metadata": {},
   "outputs": [],
   "source": [
    "loaders = [\n",
    "    CSVLoader(\"data/summary/hospital_summary.csv\", source_column=\"summary\"),\n",
    "    CSVLoader(\"data/summary/patient_summary.csv\", source_column=\"summary\"),\n",
    "    CSVLoader(\"data/summary/payer_summary.csv\", source_column=\"summary\"),\n",
    "    CSVLoader(\"data/summary/physician_summary.csv\", source_column=\"summary\"),\n",
    "    CSVLoader(\"data/summary/visit_summary.csv\", source_column=\"summary\"),\n",
    "    CSVLoader(\"data/reviews.csv\", source_column=\"review\"),\n",
    "]\n",
    "\n",
    "docs = []\n",
    "for loader in loaders:\n",
    "    docs.extend(loader.load())\n",
    "text_splitter = RecursiveCharacterTextSplitter()\n",
    "docs = text_splitter.split_documents(docs)"
   ]
  },
  {
   "cell_type": "code",
   "execution_count": 51,
   "metadata": {},
   "outputs": [],
   "source": [
    "# The vectorstore to use to index the child chunks\n",
    "vectorstore = Chroma(\n",
    "    collection_name=\"full_documents\", embedding_function=CohereEmbeddings(cohere_api_key=COHERE_API_KEY)\n",
    ")\n",
    "# The storage layer for the parent documents\n",
    "store = InMemoryByteStore()\n",
    "id_key = \"doc_id\"\n",
    "# The retriever (empty to start)\n",
    "retriever = MultiVectorRetriever(\n",
    "    vectorstore=vectorstore,\n",
    "    byte_store=store,\n",
    "    id_key=id_key,\n",
    ")\n",
    "import uuid\n",
    "\n",
    "doc_ids = [str(uuid.uuid4()) for _ in docs]"
   ]
  },
  {
   "cell_type": "code",
   "execution_count": 56,
   "metadata": {},
   "outputs": [],
   "source": [
    "retriever.vectorstore.add_documents(docs)"
   ]
  },
  {
   "cell_type": "code",
   "execution_count": null,
   "metadata": {},
   "outputs": [],
   "source": [
    "# Vectorstore alone retrieves the small chunks\n",
    "retriever.vectorstore.similarity_search(\"justice breyer\")[0]"
   ]
  }
 ],
 "metadata": {
  "kernelspec": {
   "display_name": "llm",
   "language": "python",
   "name": "python3"
  },
  "language_info": {
   "codemirror_mode": {
    "name": "ipython",
    "version": 3
   },
   "file_extension": ".py",
   "mimetype": "text/x-python",
   "name": "python",
   "nbconvert_exporter": "python",
   "pygments_lexer": "ipython3",
   "version": "3.10.12"
  }
 },
 "nbformat": 4,
 "nbformat_minor": 2
}
