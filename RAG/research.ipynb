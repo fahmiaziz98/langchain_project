{
 "cells": [
  {
   "cell_type": "code",
   "execution_count": 2,
   "metadata": {},
   "outputs": [],
   "source": [
    "from llm.chatbot import chat_model\n",
    "from langchain.schema.messages import HumanMessage, SystemMessage"
   ]
  },
  {
   "cell_type": "code",
   "execution_count": 4,
   "metadata": {},
   "outputs": [
    {
     "data": {
      "text/plain": [
       "\"Medicaid managed care is a system where state Medicaid programs contract with managed care organizations (MCOs) to provide healthcare services to Medicaid enrollees. In this model, the MCOs assume the risk and responsibility for providing a defined set of healthcare services to enrolled Medicaid beneficiaries, often in exchange for a fixed monthly payment per member.\\n\\nUnder Medicaid managed care, enrollees typically choose a primary care provider (PCP) from a network of participating healthcare providers who coordinate their care. The MCOs manage the delivery of healthcare services, including authorizing and paying for medically necessary services, coordinating specialty care, and emphasizing preventive care.\\n\\nMedicaid managed care plans can vary in their specific designs and may include models such as:\\n\\n1. Health Maintenance Organizations (HMOs): Enrollees typically need to seek care from providers within the HMO's network, except in emergencies.\\n\\n2. Preferred Provider Organizations (PPOs): Enrollees can use providers outside the network but typically pay more for those services.\\n\\n3. Primary Care Case Management (PCCM) Models: These plans emphasize the role of the primary care provider in coordinating and managing the enrollee's care.\\n\\nThe goal of Medicaid managed care is to improve access to healthcare services, enhance care coordination, and potentially reduce costs for Medicaid programs by emphasizing preventive care and managing the utilization of healthcare services.\""
      ]
     },
     "execution_count": 4,
     "metadata": {},
     "output_type": "execute_result"
    }
   ],
   "source": [
    "messages = [\n",
    "     SystemMessage(\n",
    "         content=\"\"\"You're an assistant knowledgeable about\n",
    "         healthcare. Only answer healthcare-related questions.\"\"\"\n",
    "     ),\n",
    "     HumanMessage(content=\"What is Medicaid managed care?\"),\n",
    "]\n",
    "chat_model.invoke(messages).content"
   ]
  },
  {
   "cell_type": "code",
   "execution_count": 11,
   "metadata": {},
   "outputs": [
    {
     "data": {
      "text/plain": [
       "[SystemMessage(content=\"Your job is to use patient\\nreviews to answer questions about their experience at a\\nhospital. Use the following context to answer questions.\\nBe as detailed as possible, but don't make up any information\\nthat's not from the context. If you don't know an answer, say\\nyou don't know.\\n\\nI had a great stay!\\n\"),\n",
       " HumanMessage(content='Did anyone have a positive experience?')]"
      ]
     },
     "execution_count": 11,
     "metadata": {},
     "output_type": "execute_result"
    }
   ],
   "source": [
    "from langchain.prompts import (\n",
    "    PromptTemplate,\n",
    "    SystemMessagePromptTemplate,\n",
    "    HumanMessagePromptTemplate,\n",
    "    ChatPromptTemplate,\n",
    ")\n",
    "\n",
    "review_system_template_str = \"\"\"Your job is to use patient\n",
    "reviews to answer questions about their experience at a\n",
    "hospital. Use the following context to answer questions.\n",
    "Be as detailed as possible, but don't make up any information\n",
    "that's not from the context. If you don't know an answer, say\n",
    "you don't know.\n",
    "\n",
    "{context}\n",
    "\"\"\"\n",
    "\n",
    "review_system_prompt = SystemMessagePromptTemplate(\n",
    "    prompt=PromptTemplate(\n",
    "        input_variables=[\"context\"], template=review_system_template_str\n",
    "    )\n",
    ")\n",
    "\n",
    "review_human_prompt = HumanMessagePromptTemplate(\n",
    "    prompt=PromptTemplate(\n",
    "        input_variables=[\"question\"], template=\"{question}\"\n",
    "    )\n",
    ")\n",
    "\n",
    "messages = [review_system_prompt, review_human_prompt]\n",
    "review_prompt_template = ChatPromptTemplate(\n",
    "    input_variables=[\"context\", \"question\"],\n",
    "    messages=messages,\n",
    ")\n",
    "context = \"I had a great stay!\"\n",
    "question = \"Did anyone have a positive experience?\"\n",
    "\n",
    "review_prompt_template.format_messages(context=context, question=question)"
   ]
  },
  {
   "cell_type": "code",
   "execution_count": 17,
   "metadata": {},
   "outputs": [],
   "source": [
    "import os\n",
    "import pandas as pd\n",
    "from dotenv import load_dotenv, find_dotenv\n",
    "\n",
    "\n",
    "load_dotenv(find_dotenv())\n",
    "COHERE_API_KEY = os.environ[\"COHERE_API_KEY\"]\n",
    "REVIEWS_CSV_PATH = \"data/reviews.csv\"\n",
    "REVIEWS_CHROMA_PATH = \"llm/chroma_data\"\n",
    "\n",
    "\n",
    "# loader = CSVLoader(file_path=REVIEWS_CSV_PATH, source_column=\"review\")\n",
    "# reviews = loader.load()\n",
    "\n",
    "# reviews_vector_db = Chroma.from_documents(\n",
    "#     reviews, CohereEmbeddings(), persist_directory=REVIEWS_CHROMA_PATH\n",
    "# )"
   ]
  },
  {
   "cell_type": "markdown",
   "metadata": {},
   "source": [
    "## Cut DataFrame 20 rows"
   ]
  },
  {
   "cell_type": "code",
   "execution_count": 20,
   "metadata": {},
   "outputs": [
    {
     "name": "stdout",
     "output_type": "stream",
     "text": [
      "<class 'pandas.core.frame.DataFrame'>\n",
      "RangeIndex: 9998 entries, 0 to 9997\n",
      "Data columns (total 15 columns):\n",
      " #   Column                 Non-Null Count  Dtype  \n",
      "---  ------                 --------------  -----  \n",
      " 0   patient_id             9998 non-null   int64  \n",
      " 1   date_of_admission      9998 non-null   object \n",
      " 2   billing_amount         9998 non-null   float64\n",
      " 3   room_number            9998 non-null   int64  \n",
      " 4   admission_type         9998 non-null   object \n",
      " 5   discharge_date         9498 non-null   object \n",
      " 6   test_results           9998 non-null   object \n",
      " 7   visit_id               9998 non-null   int64  \n",
      " 8   physician_id           9998 non-null   int64  \n",
      " 9   payer_id               9998 non-null   int64  \n",
      " 10  hospital_id            9998 non-null   int64  \n",
      " 11  chief_complaint        3000 non-null   object \n",
      " 12  treatment_description  3000 non-null   object \n",
      " 13  primary_diagnosis      3000 non-null   object \n",
      " 14  visit_status           9998 non-null   object \n",
      "dtypes: float64(1), int64(6), object(8)\n",
      "memory usage: 1.1+ MB\n"
     ]
    }
   ],
   "source": [
    "import pandas as pd\n",
    "visits = pd.read_csv(\"data/visits.csv\")\n",
    "visits.info()"
   ]
  },
  {
   "cell_type": "code",
   "execution_count": 21,
   "metadata": {},
   "outputs": [],
   "source": [
    "visits = visits[:20]\n",
    "visits.to_csv(\"data/visits_20.csv\", index=False)"
   ]
  },
  {
   "cell_type": "code",
   "execution_count": 22,
   "metadata": {},
   "outputs": [],
   "source": [
    "patient = pd.read_csv('data/patients.csv')\n",
    "patient = patient[:20]\n",
    "patient.to_csv(\"data/patients_20.csv\", index=False)"
   ]
  },
  {
   "cell_type": "code",
   "execution_count": 24,
   "metadata": {},
   "outputs": [],
   "source": [
    "physician = pd.read_csv(\"data/physicians.csv\")\n",
    "physician = physician[:20]\n",
    "physician.to_csv(\"data/physician_20.csv\", index=False)"
   ]
  },
  {
   "cell_type": "markdown",
   "metadata": {},
   "source": [
    "We will use data visit to build relationship every data using id, something like visit_id, physician_id, payer_id, hospital_id and patient_id and review_id from data reviews.csv"
   ]
  },
  {
   "cell_type": "markdown",
   "metadata": {},
   "source": [
    "## MultiVector"
   ]
  },
  {
   "cell_type": "code",
   "execution_count": 48,
   "metadata": {},
   "outputs": [],
   "source": [
    "from langchain.storage import InMemoryByteStore\n",
    "from langchain.document_loaders.csv_loader import CSVLoader\n",
    "from langchain_community.vectorstores import Chroma\n",
    "from langchain_cohere import CohereEmbeddings\n",
    "from langchain.retrievers.multi_vector import MultiVectorRetriever\n",
    "from langchain_text_splitters import RecursiveCharacterTextSplitter"
   ]
  },
  {
   "cell_type": "code",
   "execution_count": 49,
   "metadata": {},
   "outputs": [],
   "source": [
    "loaders = [\n",
    "    CSVLoader(\"data/summary/hospital_summary.csv\", source_column=\"summary\"),\n",
    "    CSVLoader(\"data/summary/patient_summary.csv\", source_column=\"summary\"),\n",
    "    CSVLoader(\"data/summary/payer_summary.csv\", source_column=\"summary\"),\n",
    "    CSVLoader(\"data/summary/physician_summary.csv\", source_column=\"summary\"),\n",
    "    CSVLoader(\"data/summary/visit_summary.csv\", source_column=\"summary\"),\n",
    "    CSVLoader(\"data/reviews.csv\", source_column=\"review\"),\n",
    "]\n",
    "\n",
    "docs = []\n",
    "for loader in loaders:\n",
    "    docs.extend(loader.load())\n",
    "text_splitter = RecursiveCharacterTextSplitter()\n",
    "docs = text_splitter.split_documents(docs)"
   ]
  },
  {
   "cell_type": "code",
   "execution_count": 51,
   "metadata": {},
   "outputs": [],
   "source": [
    "# The vectorstore to use to index the child chunks\n",
    "vectorstore = Chroma(\n",
    "    collection_name=\"full_documents\", embedding_function=CohereEmbeddings(cohere_api_key=COHERE_API_KEY)\n",
    ")\n",
    "# The storage layer for the parent documents\n",
    "store = InMemoryByteStore()\n",
    "id_key = \"doc_id\"\n",
    "# The retriever (empty to start)\n",
    "retriever = MultiVectorRetriever(\n",
    "    vectorstore=vectorstore,\n",
    "    byte_store=store,\n",
    "    id_key=id_key,\n",
    ")\n",
    "import uuid\n",
    "\n",
    "doc_ids = [str(uuid.uuid4()) for _ in docs]"
   ]
  },
  {
   "cell_type": "code",
   "execution_count": 56,
   "metadata": {},
   "outputs": [],
   "source": [
    "retriever.vectorstore.add_documents(docs)"
   ]
  },
  {
   "cell_type": "code",
   "execution_count": null,
   "metadata": {},
   "outputs": [],
   "source": [
    "# Vectorstore alone retrieves the small chunks\n",
    "retriever.vectorstore.similarity_search(\"justice breyer\")[0]"
   ]
  },
  {
   "cell_type": "markdown",
   "metadata": {},
   "source": [
    "## Test Review Chain"
   ]
  },
  {
   "cell_type": "code",
   "execution_count": 3,
   "metadata": {},
   "outputs": [
    {
     "name": "stderr",
     "output_type": "stream",
     "text": [
      "2024-05-29 19:39:36 [INFO] Setting up vector chain...\n",
      "2024-05-29 19:39:36 [INFO] Load CohereEmbedding...\n",
      "2024-05-29 19:39:37 [INFO] Attempting to set up Neo4j vector index from existing index...\n",
      "2024-05-29 19:39:43 [INFO] HTTP Request: POST https://api.cohere.ai/v1/chat \"HTTP/1.1 200 OK\"\n"
     ]
    },
    {
     "name": "stdout",
     "output_type": "stream",
     "text": [
      "\n",
      "Response time: 3.231100559234619 seconds\n",
      "Response : The patient expresses gratitude for the compassionate and thorough medical care received at the hospital. The medical team is praised for their attentive and supportive nature, ensuring a comfortable and smooth recovery. The facilities are described as top-notch, modern, and well-equipped, contributing to a positive overall experience. This review highlights the excellent standard of care and the patient's satisfaction with their stay.\n"
     ]
    }
   ],
   "source": [
    "from llm_api.src.chains.review_chain import setup_vector_chain\n",
    "import time\n",
    "from dotenv import load_dotenv, find_dotenv\n",
    "load_dotenv(find_dotenv())\n",
    "\n",
    "query = \"\"\"give me the best patient review.\"\"\"\n",
    "vector_chain = setup_vector_chain()\n",
    "start_time = time.time()\n",
    "response = vector_chain.invoke(query)\n",
    "end_time = time.time()\n",
    "response_time = end_time - start_time\n",
    "res = response.get(\"result\")\n",
    "print(f\"\\nResponse time: {response_time} seconds\")\n",
    "print(\"Response :\", res)"
   ]
  },
  {
   "cell_type": "markdown",
   "metadata": {},
   "source": [
    "## Test Cypher Chain\n",
    "#### Llama 3 8b"
   ]
  },
  {
   "cell_type": "code",
   "execution_count": 30,
   "metadata": {},
   "outputs": [],
   "source": [
    "question = [\n",
    "    \"What is the average billing amount for Medicaid visits?\",\n",
    "    \"How many patients did Jason Williams treat while working at the hospital?\",\n",
    "    \"I was looking for a patient but forgot his name,  I only know his date of birth is 1989-01-26 and his blood type is AB+\",\n",
    "    \"I need information about the visit on 2022-03-08 such as chief complaint, treatment, who was the patient and the attending physician and payment status\",\n",
    "    \"How many patients has Dr. Ryan Brown treated?\",\n",
    "    \"How much was billed for patient 789's stay?\",\n",
    "    \"Which physician has billed the most to cigna?\",\n",
    "]\n",
    "\n",
    "result = []"
   ]
  },
  {
   "cell_type": "code",
   "execution_count": 32,
   "metadata": {},
   "outputs": [
    {
     "name": "stdout",
     "output_type": "stream",
     "text": [
      "\n",
      "\n",
      "\u001b[1m> Entering new GraphCypherQAChain chain...\u001b[0m\n"
     ]
    },
    {
     "name": "stderr",
     "output_type": "stream",
     "text": [
      "2024-05-31 19:29:00 [INFO] HTTP Request: POST https://api.groq.com/openai/v1/chat/completions \"HTTP/1.1 200 OK\"\n"
     ]
    },
    {
     "name": "stdout",
     "output_type": "stream",
     "text": [
      "Generated Cypher:\n",
      "\u001b[32;1m\u001b[1;3mMATCH (p:Payer {name: 'Medicaid'})<-[:COVERED_BY]-(v:Visit)-[t:TREATS]-(phy:Physician)\n",
      "RETURN avg(t.billing_amount) AS average_billing_amount\u001b[0m\n",
      "Full Context:\n",
      "\u001b[32;1m\u001b[1;3m[{'average_billing_amount': None}]\u001b[0m\n"
     ]
    },
    {
     "name": "stderr",
     "output_type": "stream",
     "text": [
      "2024-05-31 19:29:02 [INFO] HTTP Request: POST https://api.cohere.ai/v1/chat \"HTTP/1.1 200 OK\"\n"
     ]
    },
    {
     "name": "stdout",
     "output_type": "stream",
     "text": [
      "\n",
      "\u001b[1m> Finished chain.\u001b[0m\n",
      "\n",
      "\n",
      "\u001b[1m> Entering new GraphCypherQAChain chain...\u001b[0m\n"
     ]
    },
    {
     "name": "stderr",
     "output_type": "stream",
     "text": [
      "2024-05-31 19:29:03 [INFO] HTTP Request: POST https://api.groq.com/openai/v1/chat/completions \"HTTP/1.1 200 OK\"\n"
     ]
    },
    {
     "name": "stdout",
     "output_type": "stream",
     "text": [
      "Generated Cypher:\n",
      "\u001b[32;1m\u001b[1;3mMATCH (phy:Physician {name: 'Jason Williams'})-[:TREATS]->(v:Visit)-[:AT]->(h:Hospital)\n",
      "RETURN COUNT(v) AS patient_count\u001b[0m\n",
      "Full Context:\n",
      "\u001b[32;1m\u001b[1;3m[{'patient_count': 18}]\u001b[0m\n"
     ]
    },
    {
     "name": "stderr",
     "output_type": "stream",
     "text": [
      "2024-05-31 19:29:04 [INFO] HTTP Request: POST https://api.cohere.ai/v1/chat \"HTTP/1.1 200 OK\"\n"
     ]
    },
    {
     "name": "stdout",
     "output_type": "stream",
     "text": [
      "\n",
      "\u001b[1m> Finished chain.\u001b[0m\n",
      "\n",
      "\n",
      "\u001b[1m> Entering new GraphCypherQAChain chain...\u001b[0m\n"
     ]
    },
    {
     "name": "stderr",
     "output_type": "stream",
     "text": [
      "2024-05-31 19:29:04 [INFO] HTTP Request: POST https://api.groq.com/openai/v1/chat/completions \"HTTP/1.1 200 OK\"\n"
     ]
    },
    {
     "name": "stdout",
     "output_type": "stream",
     "text": [
      "Generated Cypher:\n",
      "\u001b[32;1m\u001b[1;3mMATCH (p:Patient)-[:HAS]->(v:Visit)\n",
      "WHERE p.dob = '1989-01-26' AND p.blood_type = 'AB+'\n",
      "RETURN p.name AS patient_name\u001b[0m\n",
      "Full Context:\n",
      "\u001b[32;1m\u001b[1;3m[{'patient_name': 'Mrs. Brandy Flowers'}]\u001b[0m\n"
     ]
    },
    {
     "name": "stderr",
     "output_type": "stream",
     "text": [
      "2024-05-31 19:29:06 [INFO] HTTP Request: POST https://api.cohere.ai/v1/chat \"HTTP/1.1 200 OK\"\n"
     ]
    },
    {
     "name": "stdout",
     "output_type": "stream",
     "text": [
      "\n",
      "\u001b[1m> Finished chain.\u001b[0m\n",
      "\n",
      "\n",
      "\u001b[1m> Entering new GraphCypherQAChain chain...\u001b[0m\n"
     ]
    },
    {
     "name": "stderr",
     "output_type": "stream",
     "text": [
      "2024-05-31 19:29:07 [INFO] HTTP Request: POST https://api.groq.com/openai/v1/chat/completions \"HTTP/1.1 200 OK\"\n"
     ]
    },
    {
     "name": "stdout",
     "output_type": "stream",
     "text": [
      "Generated Cypher:\n",
      "\u001b[32;1m\u001b[1;3mMATCH (v:Visit)-[:AT]->(h:Hospital)\n",
      "WHERE v.admission_date = '2022-03-08'\n",
      "WITH v, h\n",
      "MATCH (v)<-[:TREATS]-(phy:Physician)\n",
      "MATCH (v)<-[:HAS]-(p:Patient)\n",
      "RETURN p.name AS patient_name, phy.name AS attending_physician, v.chief_complaint AS chief_complaint, v.treatment_description AS treatment, v.status AS payment_status\u001b[0m\n",
      "Full Context:\n",
      "\u001b[32;1m\u001b[1;3m[{'patient_name': 'Malik Sullivan', 'attending_physician': 'Christine Perkins', 'chief_complaint': 'Impaired coordination and tremors', 'treatment': 'Perform neurological assessments, prescribe medications for tremor control, and recommend physical therapy.', 'payment_status': 'DISCHARGED'}, {'patient_name': 'Teresa Caldwell', 'attending_physician': 'Charles Kim', 'chief_complaint': 'Chief complaint is a constant feeling of heat and sweating.', 'treatment': 'Evaluate for possible hormonal issues or conditions such as hyperthyroidism; recommend further endocrine testing and appropriate interventions.', 'payment_status': 'DISCHARGED'}, {'patient_name': 'Jeffrey Pacheco', 'attending_physician': 'Vickie Collins', 'chief_complaint': 'Short-term memory lapse', 'treatment': 'Cognitive assessments, memory exercises, and addressing underlying causes such as stress or medical conditions.', 'payment_status': 'DISCHARGED'}, {'patient_name': 'Audrey Park', 'attending_physician': 'Jennifer Mccall', 'chief_complaint': None, 'treatment': None, 'payment_status': 'DISCHARGED'}, {'patient_name': 'Robert Coleman', 'attending_physician': 'Heather Smith', 'chief_complaint': None, 'treatment': None, 'payment_status': 'DISCHARGED'}, {'patient_name': 'Patrick Poole', 'attending_physician': 'Joshua Jenkins', 'chief_complaint': None, 'treatment': None, 'payment_status': 'DISCHARGED'}, {'patient_name': 'John Hubbard', 'attending_physician': 'Ryan Vasquez', 'chief_complaint': None, 'treatment': None, 'payment_status': 'DISCHARGED'}, {'patient_name': 'Crystal Cooper', 'attending_physician': 'Carla Miller', 'chief_complaint': None, 'treatment': None, 'payment_status': 'DISCHARGED'}]\u001b[0m\n"
     ]
    },
    {
     "name": "stderr",
     "output_type": "stream",
     "text": [
      "2024-05-31 19:29:08 [INFO] HTTP Request: POST https://api.cohere.ai/v1/chat \"HTTP/1.1 200 OK\"\n"
     ]
    },
    {
     "name": "stdout",
     "output_type": "stream",
     "text": [
      "\n",
      "\u001b[1m> Finished chain.\u001b[0m\n",
      "\n",
      "\n",
      "\u001b[1m> Entering new GraphCypherQAChain chain...\u001b[0m\n"
     ]
    },
    {
     "name": "stderr",
     "output_type": "stream",
     "text": [
      "2024-05-31 19:29:12 [INFO] HTTP Request: POST https://api.groq.com/openai/v1/chat/completions \"HTTP/1.1 200 OK\"\n"
     ]
    },
    {
     "name": "stdout",
     "output_type": "stream",
     "text": [
      "Generated Cypher:\n",
      "\u001b[32;1m\u001b[1;3mMATCH (p:Physician {name: 'Ryan Brown'})-[:TREATS]->(v:Visit) \n",
      "RETURN COUNT(v)\u001b[0m\n",
      "Full Context:\n",
      "\u001b[32;1m\u001b[1;3m[{'COUNT(v)': 21}]\u001b[0m\n"
     ]
    },
    {
     "name": "stderr",
     "output_type": "stream",
     "text": [
      "2024-05-31 19:29:13 [INFO] HTTP Request: POST https://api.cohere.ai/v1/chat \"HTTP/1.1 200 OK\"\n"
     ]
    },
    {
     "name": "stdout",
     "output_type": "stream",
     "text": [
      "\n",
      "\u001b[1m> Finished chain.\u001b[0m\n",
      "\n",
      "\n",
      "\u001b[1m> Entering new GraphCypherQAChain chain...\u001b[0m\n"
     ]
    },
    {
     "name": "stderr",
     "output_type": "stream",
     "text": [
      "2024-05-31 19:29:16 [INFO] HTTP Request: POST https://api.groq.com/openai/v1/chat/completions \"HTTP/1.1 200 OK\"\n"
     ]
    },
    {
     "name": "stdout",
     "output_type": "stream",
     "text": [
      "Generated Cypher:\n",
      "\u001b[32;1m\u001b[1;3mMATCH (p:Patient {id: 789})-[:HAS]->(v:Visit)-[:COVERED_BY]->(c:Payer)\n",
      "RETURN c.billing_amount AS billing_amount\u001b[0m\n",
      "Full Context:\n",
      "\u001b[32;1m\u001b[1;3m[{'billing_amount': None}]\u001b[0m\n"
     ]
    },
    {
     "name": "stderr",
     "output_type": "stream",
     "text": [
      "2024-05-31 19:29:16 [INFO] HTTP Request: POST https://api.cohere.ai/v1/chat \"HTTP/1.1 200 OK\"\n"
     ]
    },
    {
     "name": "stdout",
     "output_type": "stream",
     "text": [
      "\n",
      "\u001b[1m> Finished chain.\u001b[0m\n",
      "\n",
      "\n",
      "\u001b[1m> Entering new GraphCypherQAChain chain...\u001b[0m\n"
     ]
    },
    {
     "name": "stderr",
     "output_type": "stream",
     "text": [
      "2024-05-31 19:29:18 [INFO] HTTP Request: POST https://api.groq.com/openai/v1/chat/completions \"HTTP/1.1 200 OK\"\n"
     ]
    },
    {
     "name": "stdout",
     "output_type": "stream",
     "text": [
      "Generated Cypher:\n",
      "\u001b[32;1m\u001b[1;3mMATCH (p:Payer)<-[c:COVERED_BY]-(v:Visit)-[t:TREATS]-(phy:Physician)\n",
      "WHERE p.name = 'Cigna'\n",
      "RETURN phy.name AS physician_name, SUM(c.billing_amount) AS total_billed\n",
      "ORDER BY total_billed DESC\n",
      "LIMIT 1\u001b[0m\n",
      "Full Context:\n",
      "\u001b[32;1m\u001b[1;3m[{'physician_name': 'Michael Watson', 'total_billed': 395520.74246200576}]\u001b[0m\n"
     ]
    },
    {
     "name": "stderr",
     "output_type": "stream",
     "text": [
      "2024-05-31 19:29:19 [INFO] HTTP Request: POST https://api.cohere.ai/v1/chat \"HTTP/1.1 200 OK\"\n"
     ]
    },
    {
     "name": "stdout",
     "output_type": "stream",
     "text": [
      "\n",
      "\u001b[1m> Finished chain.\u001b[0m\n",
      "\n",
      "Response time: 20.672751665115356 seconds\n"
     ]
    }
   ],
   "source": [
    "from llm_api.src.chains.cyper_chain import create_cypher_qa_chain\n",
    "import time\n",
    "from dotenv import load_dotenv, find_dotenv\n",
    "load_dotenv(find_dotenv())\n",
    "\n",
    "\n",
    "cypher_qa_chain = create_cypher_qa_chain()\n",
    "start_time = time.time()\n",
    "for query in question:\n",
    "    try:\n",
    "        response = cypher_qa_chain.invoke(query)\n",
    "        res = response.get(\"result\")\n",
    "        data = {\"Question\": query, \"Response\": res}\n",
    "        result.append(data)\n",
    "    except Exception as e:\n",
    "        data = {\"Question\": query, \"Error\": str(e)}\n",
    "        result.append(data)\n",
    "    \n",
    "end_time = time.time()\n",
    "response_time = end_time - start_time\n",
    "# res = response.get(\"result\")\n",
    "print(f\"\\nResponse time: {response_time} seconds\")\n",
    "# print(\"Response :\", res)"
   ]
  },
  {
   "cell_type": "code",
   "execution_count": 34,
   "metadata": {},
   "outputs": [
    {
     "name": "stdout",
     "output_type": "stream",
     "text": [
      "Question: What is the average billing amount for Medicaid visits?\n",
      "Response: Unfortunately, I don't know the average billing amount for Medicaid visits.\n",
      "\n",
      "Question: How many patients did Jason Williams treat while working at the hospital?\n",
      "Response: Jason Williams treated 18 patients during his time at the hospital.\n",
      "\n",
      "Question: I was looking for a patient but forgot his name,  I only know his date of birth is 1989-01-26 and his blood type is AB+\n",
      "Response: I can confirm that the patient with the date of birth 26th of January 1989 and blood type AB+ is Mrs. Brandy Flowers.\n",
      "\n",
      "Question: I need information about the visit on 2022-03-08 such as chief complaint, treatment, who was the patient and the attending physician and payment status\n",
      "Response: On March 8, 2022, Malik Sullivan visited with Dr. Christine Perkins regarding impaired coordination and tremors. The treatment plan included neurological assessments, medication for tremor control, and a recommendation for physical therapy. Teresa Caldwell also attended an appointment with Dr. Charles Kim, complaining of a constant feeling of heat and sweating. Dr. Kim suggested further endocrine testing and potential interventions for hormonal issues or conditions like hyperthyroidism. Additionally, Jeffrey Pacheco met with Dr. Vickie Collins about short-term memory lapses, and they discussed cognitive assessments, memory exercises, and addressing underlying causes such as stress. All three patients were discharged after their visits.\n",
      "\n",
      "It is important to note that for patients Audrey Park, Robert Coleman, Patrick Poole, John Hubbard, and Crystal Cooper, there is no information available regarding their chief complaints, treatments, or specific attending physicians for this particular visit date. Their records only indicate that they were discharged.\n",
      "\n",
      "Question: How many patients has Dr. Ryan Brown treated?\n",
      "Response: Dr. Ryan Brown has treated 21 patients.\n",
      "\n",
      "Question: How much was billed for patient 789's stay?\n",
      "Response: Unfortunately, I do not know the billing amount for patient 789's stay.\n",
      "\n",
      "Question: Which physician has billed the most to cigna?\n",
      "Response: Michael Watson is the physician who has billed the most to Cigna, with a total billed amount of $395,520.74.\n",
      "\n"
     ]
    }
   ],
   "source": [
    "for res in result:\n",
    "    print(f\"Question: {res['Question']}\")\n",
    "    if \"Response\" in res:\n",
    "        print(f\"Response: {res['Response']}\\n\")\n",
    "    else:\n",
    "        print(f\"Error: {res['Error']}\\n\")"
   ]
  },
  {
   "cell_type": "markdown",
   "metadata": {},
   "source": [
    "Two tries, the llama3 8b model managed to record a time of 20 seconds with a score of 80% (own assumption)"
   ]
  },
  {
   "cell_type": "markdown",
   "metadata": {},
   "source": [
    "#### Model Llama 3 70B"
   ]
  },
  {
   "cell_type": "code",
   "execution_count": 39,
   "metadata": {},
   "outputs": [
    {
     "name": "stdout",
     "output_type": "stream",
     "text": [
      "\n",
      "\n",
      "\u001b[1m> Entering new GraphCypherQAChain chain...\u001b[0m\n"
     ]
    },
    {
     "name": "stderr",
     "output_type": "stream",
     "text": [
      "2024-05-31 19:36:47 [INFO] HTTP Request: POST https://api.groq.com/openai/v1/chat/completions \"HTTP/1.1 200 OK\"\n"
     ]
    },
    {
     "name": "stdout",
     "output_type": "stream",
     "text": [
      "Generated Cypher:\n",
      "\u001b[32;1m\u001b[1;3mMATCH (p:Payer {name: 'Medicaid'})<-[:COVERED_BY]-(v:Visit)-[t:TREATS]-(phy:Physician)\n",
      "RETURN avg(t.billing_amount) AS average_billing_amount\u001b[0m\n",
      "Full Context:\n",
      "\u001b[32;1m\u001b[1;3m[{'average_billing_amount': None}]\u001b[0m\n"
     ]
    },
    {
     "name": "stderr",
     "output_type": "stream",
     "text": [
      "2024-05-31 19:36:49 [INFO] HTTP Request: POST https://api.cohere.ai/v1/chat \"HTTP/1.1 200 OK\"\n"
     ]
    },
    {
     "name": "stdout",
     "output_type": "stream",
     "text": [
      "\n",
      "\u001b[1m> Finished chain.\u001b[0m\n",
      "\n",
      "\n",
      "\u001b[1m> Entering new GraphCypherQAChain chain...\u001b[0m\n"
     ]
    },
    {
     "name": "stderr",
     "output_type": "stream",
     "text": [
      "2024-05-31 19:36:50 [INFO] HTTP Request: POST https://api.groq.com/openai/v1/chat/completions \"HTTP/1.1 200 OK\"\n"
     ]
    },
    {
     "name": "stdout",
     "output_type": "stream",
     "text": [
      "Generated Cypher:\n",
      "\u001b[32;1m\u001b[1;3mMATCH (phy:Physician {name: 'Jason Williams'})-[:TREATS]->(v:Visit)-[:AT]->(h:Hospital)\n",
      "RETURN COUNT(v) AS patient_count\u001b[0m\n",
      "Full Context:\n",
      "\u001b[32;1m\u001b[1;3m[{'patient_count': 18}]\u001b[0m\n"
     ]
    },
    {
     "name": "stderr",
     "output_type": "stream",
     "text": [
      "2024-05-31 19:36:51 [INFO] HTTP Request: POST https://api.cohere.ai/v1/chat \"HTTP/1.1 200 OK\"\n"
     ]
    },
    {
     "name": "stdout",
     "output_type": "stream",
     "text": [
      "\n",
      "\u001b[1m> Finished chain.\u001b[0m\n",
      "\n",
      "\n",
      "\u001b[1m> Entering new GraphCypherQAChain chain...\u001b[0m\n"
     ]
    },
    {
     "name": "stderr",
     "output_type": "stream",
     "text": [
      "2024-05-31 19:36:53 [INFO] HTTP Request: POST https://api.groq.com/openai/v1/chat/completions \"HTTP/1.1 200 OK\"\n"
     ]
    },
    {
     "name": "stdout",
     "output_type": "stream",
     "text": [
      "Generated Cypher:\n",
      "\u001b[32;1m\u001b[1;3mMATCH (p:Patient)-[:HAS]->(v:Visit)\n",
      "WHERE p.dob = '1989-01-26' AND p.blood_type = 'AB+'\n",
      "RETURN p.name AS patient_name\u001b[0m\n",
      "Full Context:\n",
      "\u001b[32;1m\u001b[1;3m[{'patient_name': 'Mrs. Brandy Flowers'}]\u001b[0m\n"
     ]
    },
    {
     "name": "stderr",
     "output_type": "stream",
     "text": [
      "2024-05-31 19:36:54 [INFO] HTTP Request: POST https://api.cohere.ai/v1/chat \"HTTP/1.1 200 OK\"\n"
     ]
    },
    {
     "name": "stdout",
     "output_type": "stream",
     "text": [
      "\n",
      "\u001b[1m> Finished chain.\u001b[0m\n",
      "\n",
      "\n",
      "\u001b[1m> Entering new GraphCypherQAChain chain...\u001b[0m\n"
     ]
    },
    {
     "name": "stderr",
     "output_type": "stream",
     "text": [
      "2024-05-31 19:36:55 [INFO] HTTP Request: POST https://api.groq.com/openai/v1/chat/completions \"HTTP/1.1 200 OK\"\n"
     ]
    },
    {
     "name": "stdout",
     "output_type": "stream",
     "text": [
      "Generated Cypher:\n",
      "\u001b[32;1m\u001b[1;3mMATCH (v:Visit)-[:AT]->(h:Hospital)\n",
      "WHERE v.admission_date = '2022-03-08'\n",
      "WITH v, h\n",
      "MATCH (v)<-[:TREATS]-(phy:Physician)\n",
      "MATCH (v)<-[:HAS]-(p:Patient)\n",
      "RETURN p.name AS patient_name, phy.name AS physician_name, v.chief_complaint AS chief_complaint, v.treatment_description AS treatment, \n",
      "       CASE WHEN v.status = 'OPEN' THEN 'Open' ELSE 'Closed' END AS payment_status\u001b[0m\n",
      "Full Context:\n",
      "\u001b[32;1m\u001b[1;3m[{'patient_name': 'Malik Sullivan', 'physician_name': 'Christine Perkins', 'chief_complaint': 'Impaired coordination and tremors', 'treatment': 'Perform neurological assessments, prescribe medications for tremor control, and recommend physical therapy.', 'payment_status': 'Closed'}, {'patient_name': 'Teresa Caldwell', 'physician_name': 'Charles Kim', 'chief_complaint': 'Chief complaint is a constant feeling of heat and sweating.', 'treatment': 'Evaluate for possible hormonal issues or conditions such as hyperthyroidism; recommend further endocrine testing and appropriate interventions.', 'payment_status': 'Closed'}, {'patient_name': 'Jeffrey Pacheco', 'physician_name': 'Vickie Collins', 'chief_complaint': 'Short-term memory lapse', 'treatment': 'Cognitive assessments, memory exercises, and addressing underlying causes such as stress or medical conditions.', 'payment_status': 'Closed'}, {'patient_name': 'Audrey Park', 'physician_name': 'Jennifer Mccall', 'chief_complaint': None, 'treatment': None, 'payment_status': 'Closed'}, {'patient_name': 'Robert Coleman', 'physician_name': 'Heather Smith', 'chief_complaint': None, 'treatment': None, 'payment_status': 'Closed'}, {'patient_name': 'Patrick Poole', 'physician_name': 'Joshua Jenkins', 'chief_complaint': None, 'treatment': None, 'payment_status': 'Closed'}, {'patient_name': 'John Hubbard', 'physician_name': 'Ryan Vasquez', 'chief_complaint': None, 'treatment': None, 'payment_status': 'Closed'}, {'patient_name': 'Crystal Cooper', 'physician_name': 'Carla Miller', 'chief_complaint': None, 'treatment': None, 'payment_status': 'Closed'}]\u001b[0m\n"
     ]
    },
    {
     "name": "stderr",
     "output_type": "stream",
     "text": [
      "2024-05-31 19:36:57 [INFO] HTTP Request: POST https://api.cohere.ai/v1/chat \"HTTP/1.1 200 OK\"\n"
     ]
    },
    {
     "name": "stdout",
     "output_type": "stream",
     "text": [
      "\n",
      "\u001b[1m> Finished chain.\u001b[0m\n",
      "\n",
      "\n",
      "\u001b[1m> Entering new GraphCypherQAChain chain...\u001b[0m\n"
     ]
    },
    {
     "name": "stderr",
     "output_type": "stream",
     "text": [
      "2024-05-31 19:36:59 [INFO] HTTP Request: POST https://api.groq.com/openai/v1/chat/completions \"HTTP/1.1 200 OK\"\n"
     ]
    },
    {
     "name": "stdout",
     "output_type": "stream",
     "text": [
      "Generated Cypher:\n",
      "\u001b[32;1m\u001b[1;3mMATCH (p:Physician {name: 'Ryan Brown'})-[:TREATS]->(v:Visit) \n",
      "RETURN COUNT(v)\u001b[0m\n",
      "Full Context:\n",
      "\u001b[32;1m\u001b[1;3m[{'COUNT(v)': 21}]\u001b[0m\n"
     ]
    },
    {
     "name": "stderr",
     "output_type": "stream",
     "text": [
      "2024-05-31 19:37:01 [INFO] HTTP Request: POST https://api.cohere.ai/v1/chat \"HTTP/1.1 200 OK\"\n"
     ]
    },
    {
     "name": "stdout",
     "output_type": "stream",
     "text": [
      "\n",
      "\u001b[1m> Finished chain.\u001b[0m\n",
      "\n",
      "\n",
      "\u001b[1m> Entering new GraphCypherQAChain chain...\u001b[0m\n"
     ]
    },
    {
     "name": "stderr",
     "output_type": "stream",
     "text": [
      "2024-05-31 19:37:02 [INFO] HTTP Request: POST https://api.groq.com/openai/v1/chat/completions \"HTTP/1.1 200 OK\"\n"
     ]
    },
    {
     "name": "stdout",
     "output_type": "stream",
     "text": [
      "Generated Cypher:\n",
      "\u001b[32;1m\u001b[1;3mMATCH (p:Patient {id: 789})-[:HAS]->(v:Visit)-[:COVERED_BY]->(c:Payer)\n",
      "RETURN c.billing_amount AS billing_amount\u001b[0m\n",
      "Full Context:\n",
      "\u001b[32;1m\u001b[1;3m[{'billing_amount': None}]\u001b[0m\n"
     ]
    },
    {
     "name": "stderr",
     "output_type": "stream",
     "text": [
      "2024-05-31 19:37:03 [INFO] HTTP Request: POST https://api.cohere.ai/v1/chat \"HTTP/1.1 200 OK\"\n"
     ]
    },
    {
     "name": "stdout",
     "output_type": "stream",
     "text": [
      "\n",
      "\u001b[1m> Finished chain.\u001b[0m\n",
      "\n",
      "\n",
      "\u001b[1m> Entering new GraphCypherQAChain chain...\u001b[0m\n"
     ]
    },
    {
     "name": "stderr",
     "output_type": "stream",
     "text": [
      "2024-05-31 19:37:04 [INFO] HTTP Request: POST https://api.groq.com/openai/v1/chat/completions \"HTTP/1.1 200 OK\"\n"
     ]
    },
    {
     "name": "stdout",
     "output_type": "stream",
     "text": [
      "Generated Cypher:\n",
      "\u001b[32;1m\u001b[1;3mMATCH (p:Payer)<-[c:COVERED_BY]-(v:Visit)-[t:TREATS]-(phy:Physician)\n",
      "WHERE p.name = 'Cigna'\n",
      "RETURN phy.name AS physician_name, SUM(c.billing_amount) AS total_billed\n",
      "ORDER BY total_billed DESC\n",
      "LIMIT 1\u001b[0m\n",
      "Full Context:\n",
      "\u001b[32;1m\u001b[1;3m[{'physician_name': 'Michael Watson', 'total_billed': 395520.74246200576}]\u001b[0m\n"
     ]
    },
    {
     "name": "stderr",
     "output_type": "stream",
     "text": [
      "2024-05-31 19:37:05 [INFO] HTTP Request: POST https://api.cohere.ai/v1/chat \"HTTP/1.1 200 OK\"\n"
     ]
    },
    {
     "name": "stdout",
     "output_type": "stream",
     "text": [
      "\n",
      "\u001b[1m> Finished chain.\u001b[0m\n",
      "\n",
      "Response time: 19.84330677986145 seconds\n"
     ]
    }
   ],
   "source": [
    "from llm_api.src.chains.cyper_chain import create_cypher_qa_chain\n",
    "import time\n",
    "from dotenv import load_dotenv, find_dotenv\n",
    "load_dotenv(find_dotenv())\n",
    "\n",
    "\n",
    "cypher_qa_chain = create_cypher_qa_chain()\n",
    "start_time = time.time()\n",
    "result = []\n",
    "for query in question:\n",
    "    try:\n",
    "        response = cypher_qa_chain.invoke(query)\n",
    "        res = response.get(\"result\")\n",
    "        data = {\"Question\": query, \"Response\": res}\n",
    "        result.append(data)\n",
    "    except Exception as e:\n",
    "        data = {\"Question\": query, \"Error\": str(e)}\n",
    "        result.append(data)\n",
    "    \n",
    "end_time = time.time()\n",
    "response_time = end_time - start_time\n",
    "# res = response.get(\"result\")\n",
    "print(f\"\\nResponse time: {response_time} seconds\")\n",
    "# print(\"Response :\", res)"
   ]
  },
  {
   "cell_type": "code",
   "execution_count": 40,
   "metadata": {},
   "outputs": [
    {
     "name": "stdout",
     "output_type": "stream",
     "text": [
      "Question: What is the average billing amount for Medicaid visits?\n",
      "Response: Unfortunately, I do not know the average billing amount for Medicaid visits.\n",
      "\n",
      "Question: How many patients did Jason Williams treat while working at the hospital?\n",
      "Response: Jason Williams treated 18 patients during his time at the hospital.\n",
      "\n",
      "Question: I was looking for a patient but forgot his name,  I only know his date of birth is 1989-01-26 and his blood type is AB+\n",
      "Response: I can confirm that the patient with the date of birth 1989-01-26 and blood type AB+ is Mrs. Brandy Flowers.\n",
      "\n",
      "Question: I need information about the visit on 2022-03-08 such as chief complaint, treatment, who was the patient and the attending physician and payment status\n",
      "Response: On March 8, 2022, Malik Sullivan saw Dr. Christine Perkins with a chief complaint of impaired coordination and tremors. Dr. Perkins recommended neurological assessments, prescribed medications for tremor control, and suggested physical therapy. The payment status for this visit is closed.\n",
      "\n",
      "Additionally, Teresa Caldwell visited Dr. Charles Kim, complaining of a constant feeling of heat and sweating. Dr. Kim evaluated hormonal issues and conditions like hyperthyroidism, recommending further endocrine testing and interventions. The payment status for this visit is also marked as closed.\n",
      "\n",
      "I can provide further details if needed, but this is the information pertaining to the visits on the date specified.\n",
      "\n",
      "Question: How many patients has Dr. Ryan Brown treated?\n",
      "Response: Dr. Ryan Brown has treated 21 patients.\n",
      "\n",
      "Question: How much was billed for patient 789's stay?\n",
      "Response: Unfortunately, I do not know the billing amount for patient 789's stay.\n",
      "\n",
      "Question: Which physician has billed the most to cigna?\n",
      "Response: Michael Watson is the physician who has billed the most to Cigna, with a total billed amount of $395,520.74.\n",
      "\n"
     ]
    }
   ],
   "source": [
    "for res in result:\n",
    "    print(f\"Question: {res['Question']}\")\n",
    "    if \"Response\" in res:\n",
    "        print(f\"Response: {res['Response']}\\n\")\n",
    "    else:\n",
    "        print(f\"Error: {res['Error']}\\n\")"
   ]
  },
  {
   "cell_type": "markdown",
   "metadata": {},
   "source": [
    "## Test Rag agent\n",
    "**Note:** sometimes we need to rerun the code to get the best results"
   ]
  },
  {
   "cell_type": "code",
   "execution_count": 28,
   "metadata": {},
   "outputs": [
    {
     "name": "stdout",
     "output_type": "stream",
     "text": [
      "\n",
      "\n",
      "\u001b[1m> Entering new AgentExecutor chain...\u001b[0m\n"
     ]
    },
    {
     "name": "stderr",
     "output_type": "stream",
     "text": [
      "2024-05-29 21:38:43 [INFO] HTTP Request: POST https://api.cohere.ai/v1/chat \"HTTP/1.1 200 OK\"\n"
     ]
    },
    {
     "name": "stdout",
     "output_type": "stream",
     "text": [
      "\u001b[32;1m\u001b[1;3m\n",
      "I will search for the number of Medicaid visits in each state in 2022 and 2023, then calculate the percentage increase for each state and find the largest one.\n",
      "{'tool_name': 'Graph', 'parameters': {'tool_input': 'Medicaid visits by state in 2022'}}\n",
      "\u001b[0m\n",
      "\n",
      "\u001b[1m> Entering new GraphCypherQAChain chain...\u001b[0m\n"
     ]
    },
    {
     "name": "stderr",
     "output_type": "stream",
     "text": [
      "2024-05-29 21:38:49 [INFO] HTTP Request: POST https://api.cohere.ai/v1/chat \"HTTP/1.1 200 OK\"\n"
     ]
    },
    {
     "name": "stdout",
     "output_type": "stream",
     "text": [
      "Generated Cypher:\n",
      "\u001b[32;1m\u001b[1;3mMATCH (v:Visit)-[:COVERED_BY]->(m:Payer)\n",
      "WHERE m.name = 'Medicare' AND v.admission_date >= '2022-01-01' AND v.admission_date < '2023-01-01'\n",
      "WITH v, m\n",
      "MATCH (v)-[:AT]->(h:Hospital)\n",
      "RETURN h.state_name AS state, COUNT(v) AS medicare_visits\n",
      "ORDER BY medicare_visits DESC;\u001b[0m\n",
      "Full Context:\n",
      "\u001b[32;1m\u001b[1;3m[]\u001b[0m\n"
     ]
    },
    {
     "name": "stderr",
     "output_type": "stream",
     "text": [
      "2024-05-29 21:38:50 [INFO] HTTP Request: POST https://api.cohere.ai/v1/chat \"HTTP/1.1 200 OK\"\n"
     ]
    },
    {
     "name": "stdout",
     "output_type": "stream",
     "text": [
      "\n",
      "\u001b[1m> Finished chain.\u001b[0m\n",
      "\u001b[33;1m\u001b[1;3m{'query': 'Medicaid visits by state in 2022', 'result': \"Unfortunately, I don't know the answer to this question as the query results are empty.\"}\u001b[0m\u001b[32;1m\u001b[1;3m\n",
      "{'tool_name': 'Graph', 'parameters': {'tool_input': 'Medicaid visits by state in 2023'}}\n",
      "\u001b[0m\n",
      "\n",
      "\u001b[1m> Entering new GraphCypherQAChain chain...\u001b[0m\n"
     ]
    },
    {
     "name": "stderr",
     "output_type": "stream",
     "text": [
      "2024-05-29 21:38:53 [INFO] HTTP Request: POST https://api.cohere.ai/v1/chat \"HTTP/1.1 200 OK\"\n"
     ]
    },
    {
     "name": "stdout",
     "output_type": "stream",
     "text": [
      "Generated Cypher:\n",
      "\u001b[32;1m\u001b[1;3m\u001b[0m\n",
      "Full Context:\n",
      "\u001b[32;1m\u001b[1;3m[]\u001b[0m\n"
     ]
    },
    {
     "name": "stderr",
     "output_type": "stream",
     "text": [
      "2024-05-29 21:38:54 [INFO] HTTP Request: POST https://api.cohere.ai/v1/chat \"HTTP/1.1 200 OK\"\n"
     ]
    },
    {
     "name": "stdout",
     "output_type": "stream",
     "text": [
      "\n",
      "\u001b[1m> Finished chain.\u001b[0m\n",
      "\u001b[33;1m\u001b[1;3m{'query': 'Medicaid visits by state in 2023', 'result': \"Unfortunately, I don't know the answer to this question as no information was provided in the query results.\"}\u001b[0m"
     ]
    },
    {
     "name": "stderr",
     "output_type": "stream",
     "text": [
      "2024-05-29 21:38:55 [INFO] HTTP Request: POST https://api.cohere.ai/v1/chat \"HTTP/1.1 200 OK\"\n"
     ]
    },
    {
     "name": "stdout",
     "output_type": "stream",
     "text": [
      "\u001b[32;1m\u001b[1;3mRelevant Documents: 0,1\n",
      "Cited Documents: 0,1\n",
      "Answer: I'm sorry, I don't have enough information to answer this question.\n",
      "Grounded answer: I'm sorry, I don't have enough information to answer this question.\u001b[0m\n",
      "\n",
      "\u001b[1m> Finished chain.\u001b[0m\n",
      "\n",
      "Response time: 14.032104730606079 seconds\n",
      "Response : I'm sorry, I don't have enough information to answer this question.\n"
     ]
    }
   ],
   "source": [
    "import time\n",
    "from dotenv import load_dotenv, find_dotenv\n",
    "load_dotenv(find_dotenv())\n",
    "\n",
    "from llm_api.src.agents.rag_agent import agent_executor\n",
    "\n",
    "# question = {\"input\": \"What is the wait time at Wallace-Hamilton?\"}\n",
    "# question = {\n",
    "#          \"input\": (\n",
    "#              \"What have patients said about their \"\n",
    "#              \"quality of rest during their stay?\"\n",
    "#          )\n",
    "#      }\n",
    "\n",
    "question = {\n",
    "    \"input\": (\n",
    "        \"Which state had the largest percent increase \"\n",
    "        \"in Medicaid visits from 2022 to 2023?\"\n",
    "    )\n",
    "}\n",
    "\n",
    "agent = agent_executor()\n",
    "start_time = time.time()\n",
    "response = agent.invoke(question)\n",
    "end_time = time.time()\n",
    "response_time = end_time - start_time\n",
    "res = response.get(\"output\")\n",
    "print(f\"\\nResponse time: {response_time} seconds\")\n",
    "print(\"Response :\", res)"
   ]
  },
  {
   "cell_type": "markdown",
   "metadata": {},
   "source": [
    "## Test Api LLM on local dev"
   ]
  },
  {
   "cell_type": "code",
   "execution_count": 11,
   "metadata": {},
   "outputs": [
    {
     "name": "stdout",
     "output_type": "stream",
     "text": [
      "Request failed: 500 Server Error: Internal Server Error for url: http://127.0.0.1:8000/rag-agent\n",
      "Request failed: 500 Server Error: Internal Server Error for url: http://127.0.0.1:8000/rag-agent\n",
      "Request failed: 500 Server Error: Internal Server Error for url: http://127.0.0.1:8000/rag-agent\n",
      "Run time: 364.7803869350173 seconds\n"
     ]
    }
   ],
   "source": [
    "import time\n",
    "import requests\n",
    "\n",
    "CHATBOT_URL = \"http://127.0.0.1:8000/rag-agent\"\n",
    "\n",
    "questions = [\n",
    "   \"What is the current wait time at Wallace-Hamilton hospital?\",\n",
    "   \"Which hospital has the shortest wait time?\",  # <--ini error\n",
    "   \"At which hospitals are patients complaining about billing and insurance issues?\",\n",
    "   \"What is the average duration in days for emergency visits?\", # <--ini error\n",
    "   \"What are patients saying about the nursing staff at Castaneda-Hardy?\",\n",
    "   \"What was the total billing amount charged to each payer for 2023?\",\n",
    "   \"What is the average billing amount for Medicaid visits?\",  # <--ini error\n",
    "   \"How many patients has Dr. Ryan Brown treated?\",\n",
    "   \"Which physician has the lowest average visit duration in days?\", # <--ini error\n",
    "   \"How many visits are open and what is their average duration in days?\",\n",
    "   \"Have any patients complained about noise?\",\n",
    "   \"How much was billed for patient 789's stay?\",\n",
    "   \"Which physician has billed the most to cigna?\",\n",
    "   \"Which state had the largest percent increase in Medicaid visits from 2022 to 2023?\",\n",
    "]\n",
    "\n",
    "request_bodies = [{\"query\": q} for q in questions]\n",
    "\n",
    "def send_requests(request_bodies):\n",
    "    responses = []\n",
    "    for data in request_bodies:\n",
    "        try:\n",
    "            response = requests.post(CHATBOT_URL, json=data)\n",
    "            response.raise_for_status()\n",
    "            responses.append(response.json())\n",
    "        except requests.exceptions.RequestException as e:\n",
    "            print(f\"Request failed: {e}\")\n",
    "            responses.append(None)\n",
    "    return responses\n",
    "\n",
    "start_time = time.perf_counter()\n",
    "outputs = send_requests(request_bodies)\n",
    "end_time = time.perf_counter()\n",
    "\n",
    "print(f\"Run time: {end_time - start_time} seconds\")"
   ]
  },
  {
   "cell_type": "code",
   "execution_count": 12,
   "metadata": {},
   "outputs": [
    {
     "data": {
      "text/plain": [
       "[{'input': 'What is the current wait time at Wallace-Hamilton hospital?',\n",
       "  'output': 'The current wait time at Wallace-Hamilton Hospital is 21 minutes.',\n",
       "  'intermediate_steps': ['(AgentActionMessageLog(tool=\\'Waits\\', tool_input={\\'tool_input\\': \\'Wallace-Hamilton\\'}, log=\"\\\\nI will use the Waits tool to find the current wait time at Wallace-Hamilton Hospital.\\\\n{\\'tool_name\\': \\'Waits\\', \\'parameters\\': {\\'tool_input\\': \\'Wallace-Hamilton\\'}}\\\\n\", message_log=[AIMessage(content=\\'\\\\nPlan: I will use the Waits tool to find the current wait time at Wallace-Hamilton Hospital.\\\\nAction: ```json\\\\n[\\\\n    {\\\\n        \"tool_name\": \"Waits\",\\\\n        \"parameters\": {\\\\n            \"tool_input\": \"Wallace-Hamilton\"\\\\n        }\\\\n    }\\\\n]\\\\n```\\')]), \\'21 minutes\\')']},\n",
       " None,\n",
       " {'input': 'At which hospitals are patients complaining about billing and insurance issues?',\n",
       "  'output': \"I'm sorry, I can't find any information about patients complaining about billing and insurance issues at specific hospitals. The reviews focus primarily on the quality of medical care, staff communication, and the condition of the facilities.\",\n",
       "  'intermediate_steps': ['(AgentActionMessageLog(tool=\\'Experiences\\', tool_input=\\'At which hospitals are patients complaining about billing and insurance issues?\\', log=\"\\\\nI will search for hospitals where patients are complaining about billing and insurance issues.\\\\n{\\'tool_name\\': \\'Experiences\\', \\'parameters\\': \\'At which hospitals are patients complaining about billing and insurance issues?\\'}\\\\n\", message_log=[AIMessage(content=\\'\\\\nPlan: I will search for hospitals where patients are complaining about billing and insurance issues.\\\\nAction: ```json\\\\n[\\\\n    {\\\\n        \"tool_name\": \"Experiences\",\\\\n        \"parameters\": \"At which hospitals are patients complaining about billing and insurance issues?\"\\\\n    }\\\\n]\\\\n```\\')]), {\\'query\\': \\'At which hospitals are patients complaining about billing and insurance issues?\\', \\'result\\': \\'The patients in the provided context do not mention any specific hospitals, nor do they complain about billing and insurance issues. The reviews focus primarily on the quality of medical care, staff communication, and the condition of the facilities. Therefore, I cannot provide information about specific hospitals or billing and insurance complaints within this context.\\', \\'id\\': \\'doc_0\\'})']},\n",
       " None,\n",
       " {'input': 'What are patients saying about the nursing staff at Castaneda-Hardy?',\n",
       "  'output': 'Although I can\\'t find any specific mentions of Castaneda-Hardy, patients are expressing gratitude and appreciation for the medical staff at the hospital. They describe the staff as \"caring and attentive\" and \"incredibly attentive and supportive\". The nursing staff likely played a significant role in ensuring patient comfort and recovery during their stay.',\n",
       "  'intermediate_steps': ['(AgentActionMessageLog(tool=\\'Experiences\\', tool_input={\\'tool_input\\': \\'What are patients saying about the nursing staff at Castaneda-Hardy?\\'}, log=\"\\\\nI will search for patient experiences of the nursing staff at Castaneda-Hardy and relay this information to the user.\\\\n{\\'tool_name\\': \\'Experiences\\', \\'parameters\\': {\\'tool_input\\': \\'What are patients saying about the nursing staff at Castaneda-Hardy?\\'}}\\\\n\", message_log=[AIMessage(content=\\'\\\\nPlan: I will search for patient experiences of the nursing staff at Castaneda-Hardy and relay this information to the user.\\\\nAction: ```json\\\\n[\\\\n    {\\\\n        \"tool_name\": \"Experiences\",\\\\n        \"parameters\": {\\\\n            \"tool_input\": \"What are patients saying about the nursing staff at Castaneda-Hardy?\"\\\\n        }\\\\n    }\\\\n]\\\\n```\\')]), {\\'query\\': \\'What are patients saying about the nursing staff at Castaneda-Hardy?\\', \\'result\\': \\'I don\\\\\\'t see any mentions of \"Castaneda-Hardy\" in the provided context. However, patients are expressing gratitude and appreciation for the medical staff at the hospital. They describe the staff as \"caring and attentive,\" \"incredibly attentive and supportive,\" and contributing to a positive experience with their compassionate care. The nursing staff, as part of the medical team, likely played a significant role in ensuring patient comfort and recovery during their stay.\\', \\'id\\': \\'doc_0\\'})']},\n",
       " {'input': 'What was the total billing amount charged to each payer for 2023?',\n",
       "  'output': 'Here are the total billing amounts charged to each payer for 2023:\\n- Cigna: $9,062,661.18\\n- UnitedHealthcare: $8,599,329.75\\n- Medicaid: $7,686,041.67\\n- Blue Cross: $7,658,007.28\\n- Aetna: $7,618,424.31',\n",
       "  'intermediate_steps': ['(AgentActionMessageLog(tool=\\'Graph\\', tool_input={\\'tool_input\\': \\'What was the total billing amount charged to each payer for 2023?\\'}, log=\"\\\\nI will search for the total billing amount charged to each payer for 2023.\\\\n{\\'tool_name\\': \\'Graph\\', \\'parameters\\': {\\'tool_input\\': \\'What was the total billing amount charged to each payer for 2023?\\'}}\\\\n\", message_log=[AIMessage(content=\\'\\\\nPlan: I will search for the total billing amount charged to each payer for 2023.\\\\nAction: ```json\\\\n[\\\\n    {\\\\n        \"tool_name\": \"Graph\",\\\\n        \"parameters\": {\\\\n            \"tool_input\": \"What was the total billing amount charged to each payer for 2023?\"\\\\n        }\\\\n    }\\\\n]\\\\n```\\')]), {\\'query\\': \\'What was the total billing amount charged to each payer for 2023?\\', \\'result\\': \\'In response to your question about the total billing amounts charged to each payer for 2023, here are the results: \\\\n\\\\n- Cigna: $9,062,661.18\\\\n- UnitedHealthcare: $8,599,329.75\\\\n- Medicaid: $7,686,041.67\\\\n- Blue Cross: $7,658,007.28\\\\n- Aetna: $7,618,424.31\\\\n\\\\nThese figures represent the total billing amounts charged to each of these payers for the specified year.\\', \\'id\\': \\'doc_0\\'})']},\n",
       " {'input': 'What is the average billing amount for Medicaid visits?',\n",
       "  'output': \"Sorry, I don't have any information about the average billing amount for Medicaid visits.\",\n",
       "  'intermediate_steps': ['(AgentActionMessageLog(tool=\\'Graph\\', tool_input={\\'tool_input\\': \\'What is the average billing amount for Medicaid visits?\\'}, log=\"\\\\nI will search for the average billing amount for Medicaid visits.\\\\n{\\'tool_name\\': \\'Graph\\', \\'parameters\\': {\\'tool_input\\': \\'What is the average billing amount for Medicaid visits?\\'}}\\\\n\", message_log=[AIMessage(content=\\'\\\\nPlan: I will search for the average billing amount for Medicaid visits.\\\\nAction: ```json\\\\n[\\\\n    {\\\\n        \"tool_name\": \"Graph\",\\\\n        \"parameters\": {\\\\n            \"tool_input\": \"What is the average billing amount for Medicaid visits?\"\\\\n        }\\\\n    }\\\\n]\\\\n```\\')]), {\\'query\\': \\'What is the average billing amount for Medicaid visits?\\', \\'result\\': \"Unfortunately, I don\\'t know the answer to this question as no information was provided in the query results.\", \\'id\\': \\'doc_0\\'})']},\n",
       " {'input': 'How many patients has Dr. Ryan Brown treated?',\n",
       "  'output': 'Dr. Ryan Brown has not treated any patients.',\n",
       "  'intermediate_steps': ['(AgentActionMessageLog(tool=\\'Graph\\', tool_input={\\'tool_input\\': \\'How many patients has Dr. Ryan Brown treated?\\'}, log=\"\\\\nI will search for the number of patients Dr. Ryan Brown has treated.\\\\n{\\'tool_name\\': \\'Graph\\', \\'parameters\\': {\\'tool_input\\': \\'How many patients has Dr. Ryan Brown treated?\\'}}\\\\n\", message_log=[AIMessage(content=\\'\\\\nPlan: I will search for the number of patients Dr. Ryan Brown has treated.\\\\nAction: ```json\\\\n[\\\\n    {\\\\n        \"tool_name\": \"Graph\",\\\\n        \"parameters\": {\\\\n            \"tool_input\": \"How many patients has Dr. Ryan Brown treated?\"\\\\n        }\\\\n    }\\\\n]\\\\n```\\')]), {\\'query\\': \\'How many patients has Dr. Ryan Brown treated?\\', \\'result\\': \\'Dr. Ryan Brown has not treated any patients.\\', \\'id\\': \\'doc_0\\'})']},\n",
       " None,\n",
       " {'input': 'How many visits are open and what is their average duration in days?',\n",
       "  'output': 'There are 500 open visits, but unfortunately, I cannot provide information on their average duration as this data is not currently available.',\n",
       "  'intermediate_steps': ['(AgentActionMessageLog(tool=\\'Graph\\', tool_input={\\'tool_input\\': \\'How many visits are open and what is their average duration in days?\\'}, log=\"\\\\nI will search for the number of open visits and their average duration in days.\\\\n{\\'tool_name\\': \\'Graph\\', \\'parameters\\': {\\'tool_input\\': \\'How many visits are open and what is their average duration in days?\\'}}\\\\n\", message_log=[AIMessage(content=\\'\\\\nPlan: I will search for the number of open visits and their average duration in days.\\\\nAction: ```json\\\\n[\\\\n    {\\\\n        \"tool_name\": \"Graph\",\\\\n        \"parameters\": {\\\\n            \"tool_input\": \"How many visits are open and what is their average duration in days?\"\\\\n        }\\\\n    }\\\\n]\\\\n```\\')]), {\\'query\\': \\'How many visits are open and what is their average duration in days?\\', \\'result\\': \\'There are 500 open visits, but unfortunately, I cannot provide information on their average duration as this data is not currently available.\\', \\'id\\': \\'doc_0\\'})']},\n",
       " {'input': 'Have any patients complained about noise?',\n",
       "  'output': 'Yes, multiple patients have complained about noise levels during their stay at the hospital. The noise in the hallways and shared rooms was disruptive and affected the peace and rest of the patients.',\n",
       "  'intermediate_steps': ['(AgentActionMessageLog(tool=\\'Experiences\\', tool_input={\\'tool_input\\': \\'Have any patients complained about noise?\\'}, log=\"\\\\nI will search for patients who have complained about noise.\\\\n{\\'tool_name\\': \\'Experiences\\', \\'parameters\\': {\\'tool_input\\': \\'Have any patients complained about noise?\\'}}\\\\n\", message_log=[AIMessage(content=\\'\\\\nPlan: I will search for patients who have complained about noise.\\\\nAction: ```json\\\\n[\\\\n    {\\\\n        \"tool_name\": \"Experiences\",\\\\n        \"parameters\": {\\\\n            \"tool_input\": \"Have any patients complained about noise?\"\\\\n        }\\\\n    }\\\\n]\\\\n```\\')]), {\\'query\\': \\'Have any patients complained about noise?\\', \\'result\\': \\'Yes, multiple patients have complained about noise levels during their stay at the hospital. The noise in the hallways and shared rooms was disruptive and affected the peace and rest of the patients.\\', \\'id\\': \\'doc_0\\'})']},\n",
       " {'input': \"How much was billed for patient 789's stay?\",\n",
       "  'output': 'Patient 789 was billed a total of $8,749.92 for their stay.',\n",
       "  'intermediate_steps': ['(AgentActionMessageLog(tool=\\'Graph\\', tool_input={\\'tool_input\\': \"How much was billed for patient 789\\'s stay?\"}, log=\\'\\\\nI will search for the billing amount for patient 789\\\\\\'s stay.\\\\n{\\\\\\'tool_name\\\\\\': \\\\\\'Graph\\\\\\', \\\\\\'parameters\\\\\\': {\\\\\\'tool_input\\\\\\': \"How much was billed for patient 789\\\\\\'s stay?\"}}\\\\n\\', message_log=[AIMessage(content=\\'\\\\nPlan: I will search for the billing amount for patient 789\\\\\\'s stay.\\\\nAction: ```json\\\\n[\\\\n    {\\\\n        \"tool_name\": \"Graph\",\\\\n        \"parameters\": {\\\\n            \"tool_input\": \"How much was billed for patient 789\\\\\\'s stay?\"\\\\n        }\\\\n    }\\\\n]\\\\n```\\')]), {\\'query\\': \"How much was billed for patient 789\\'s stay?\", \\'result\\': \\'Patient 789 was billed a total of $8,749.92 for their stay.\\', \\'id\\': \\'doc_0\\'})']},\n",
       " {'input': 'Which physician has billed the most to cigna?',\n",
       "  'output': 'Michael Watson is the physician who has billed the most to Cigna, with a total billed amount of $395,520.74.',\n",
       "  'intermediate_steps': ['(AgentActionMessageLog(tool=\\'Graph\\', tool_input={\\'tool_input\\': \\'Which physician has billed the most to cigna?\\'}, log=\"\\\\nI will search for the physician who has billed the most to Cigna.\\\\n{\\'tool_name\\': \\'Graph\\', \\'parameters\\': {\\'tool_input\\': \\'Which physician has billed the most to cigna?\\'}}\\\\n\", message_log=[AIMessage(content=\\'\\\\nPlan: I will search for the physician who has billed the most to Cigna.\\\\nAction: ```json\\\\n[\\\\n    {\\\\n        \"tool_name\": \"Graph\",\\\\n        \"parameters\": {\\\\n            \"tool_input\": \"Which physician has billed the most to cigna?\"\\\\n        }\\\\n    }\\\\n]\\\\n```\\')]), {\\'query\\': \\'Which physician has billed the most to cigna?\\', \\'result\\': \\'Michael Watson is the physician who has billed the most to Cigna, with a total billed amount of $395,520.74.\\', \\'id\\': \\'doc_0\\'})']},\n",
       " {'input': 'Which state had the largest percent increase in Medicaid visits from 2022 to 2023?',\n",
       "  'output': \"I'm sorry, I don't have any information about the number of Medicaid visits in each state in 2022 or 2023, so I can't answer your question.\",\n",
       "  'intermediate_steps': ['(AgentActionMessageLog(tool=\\'Graph\\', tool_input={\\'tool_input\\': \\'Number of Medicaid visits in each state in 2022\\'}, log=\"\\\\nI will search for the number of Medicaid visits in each state in 2022 and 2023, and calculate the percentage increase for each state. I will then find the state with the largest percentage increase.\\\\n{\\'tool_name\\': \\'Graph\\', \\'parameters\\': {\\'tool_input\\': \\'Number of Medicaid visits in each state in 2022\\'}}\\\\n\", message_log=[AIMessage(content=\\'\\\\nPlan: I will search for the number of Medicaid visits in each state in 2022 and 2023, and calculate the percentage increase for each state. I will then find the state with the largest percentage increase.\\\\nAction: ```json\\\\n[\\\\n    {\\\\n        \"tool_name\": \"Graph\",\\\\n        \"parameters\": {\\\\n            \"tool_input\": \"Number of Medicaid visits in each state in 2022\"\\\\n        }\\\\n    },\\\\n    {\\\\n        \"tool_name\": \"Graph\",\\\\n        \"parameters\": {\\\\n            \"tool_input\": \"Number of Medicaid visits in each state in 2023\"\\\\n        }\\\\n    }\\\\n]\\\\n```\\')]), {\\'query\\': \\'Number of Medicaid visits in each state in 2022\\', \\'result\\': \"Unfortunately, I don\\'t know the answer to this question as no data was provided in the query results.\", \\'id\\': \\'doc_0\\'})',\n",
       "   '(AgentActionMessageLog(tool=\\'Graph\\', tool_input={\\'tool_input\\': \\'Number of Medicaid visits in each state in 2023\\'}, log=\"\\\\n{\\'tool_name\\': \\'Graph\\', \\'parameters\\': {\\'tool_input\\': \\'Number of Medicaid visits in each state in 2023\\'}}\\\\n\", message_log=[AIMessage(content=\\'\\\\nPlan: I will search for the number of Medicaid visits in each state in 2022 and 2023, and calculate the percentage increase for each state. I will then find the state with the largest percentage increase.\\\\nAction: ```json\\\\n[\\\\n    {\\\\n        \"tool_name\": \"Graph\",\\\\n        \"parameters\": {\\\\n            \"tool_input\": \"Number of Medicaid visits in each state in 2022\"\\\\n        }\\\\n    },\\\\n    {\\\\n        \"tool_name\": \"Graph\",\\\\n        \"parameters\": {\\\\n            \"tool_input\": \"Number of Medicaid visits in each state in 2023\"\\\\n        }\\\\n    }\\\\n]\\\\n```\\')]), {\\'query\\': \\'Number of Medicaid visits in each state in 2023\\', \\'result\\': \"Unfortunately, I don\\'t know the answer to this question as no information was provided in the query results.\", \\'id\\': \\'doc_1\\'})']}]"
      ]
     },
     "execution_count": 12,
     "metadata": {},
     "output_type": "execute_result"
    }
   ],
   "source": [
    "outputs"
   ]
  }
 ],
 "metadata": {
  "kernelspec": {
   "display_name": "llm",
   "language": "python",
   "name": "python3"
  },
  "language_info": {
   "codemirror_mode": {
    "name": "ipython",
    "version": 3
   },
   "file_extension": ".py",
   "mimetype": "text/x-python",
   "name": "python",
   "nbconvert_exporter": "python",
   "pygments_lexer": "ipython3",
   "version": "3.10.12"
  }
 },
 "nbformat": 4,
 "nbformat_minor": 2
}
