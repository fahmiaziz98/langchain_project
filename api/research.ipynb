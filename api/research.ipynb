{
 "cells": [
  {
   "cell_type": "code",
   "execution_count": 5,
   "metadata": {},
   "outputs": [
    {
     "name": "stdout",
     "output_type": "stream",
     "text": [
      "BERT (Bidirectional Encoder Representations from Transformers) adalah model bahasa berbasis transformer yang dikembangkan oleh Google. Model ini dilatih dengan sejumlah besar data teks dan dapat digunakan untuk berbagai tugas pemrosesan bahasa alami, seperti pemahaman bahasa, penggenerasan bahasa, dan analisis sentiment.\n",
      "\n",
      "Model BERT menggunakan arsitektur transformer yang memungkinkan model untuk memproses kata-kata dalam sebuah kalimat secara bersamaan, yang berbeda dengan model bahasa tradisional yang memproses kata-kata secara berurutan. Hal ini memungkinkan BERT untuk memahami konteks kata-kata dalam sebuah kalimat dengan lebih baik.\n",
      "\n",
      "Model BERT awalnya dilatih pada dua tugas: prediksi kata yang hilang dalam sebuah kalimat (masked language modeling) dan prediksi urutan kalimat yang benar (next sentence prediction). Dengan melatih model pada tugas-tugas ini, BERT dapat menangkap hubungan antara kata-kata dalam sebuah teks dan mengembangkan pemahaman tentang bahasa yang lebih mendalam.\n",
      "\n",
      "Setelah dilatih, model BERT dapat disesuaikan (fine-tune) untuk tugas-tugas pemrosesan bahasa alami yang spesifik, seperti klasifikasi teks, pengejaan ulang kata, atau pertanyaan dan jawaban. Model ini telah menunjukkan hasil yang unggul dalam banyak tugas dan telah diadopsi secara luas dalam komunitas penelitian dan industri.\n",
      "\n",
      "Dengan kemampuan untuk memahami konteks dan hubungan antara kata-kata, BERT telah mendorong kemajuan signifikan dalam bidang pemrosesan bahasa alami, memungkinkan sistem untuk memahami dan menanggapi bahasa manusia dengan lebih akurat dan alami."
     ]
    }
   ],
   "source": [
    "import requests\n",
    "\n",
    "def stream_response(url, user_query, chat_history):\n",
    "    # Data yang akan dikirim ke endpoint\n",
    "    data = {\n",
    "        \"user_query\": user_query,\n",
    "        \"chat_history\": chat_history\n",
    "    }\n",
    "\n",
    "    # Mengirim permintaan POST dengan streaming diaktifkan\n",
    "    with requests.post(url, json=data, stream=True) as response:\n",
    "        if response.status_code == 200:\n",
    "            for chunk in response.iter_content(chunk_size=1024):\n",
    "                if chunk:\n",
    "                    print(chunk.decode('utf-8'), end=\"\")\n",
    "        else:\n",
    "            print(f\"Error: Unable to get response from the server. Status code: {response.status_code}\")\n",
    "\n",
    "# URL endpoint FastAPI Anda\n",
    "url = \"http://localhost:8000/stream/\"\n",
    "\n",
    "# Contoh penggunaan fungsi\n",
    "user_query = \"Jelaskan secara singkat BERT?\"\n",
    "chat_history = [\"Model Bert\"]  # Ganti dengan riwayat obrolan yang sesuai\n",
    "\n",
    "stream_response(url, user_query, chat_history)\n"
   ]
  },
  {
   "cell_type": "code",
   "execution_count": 7,
   "metadata": {},
   "outputs": [],
   "source": [
    "from lang import get_response\n",
    "\n",
    "res = get_response(\"Apa itu LLM?\", \" \")"
   ]
  },
  {
   "cell_type": "code",
   "execution_count": 10,
   "metadata": {},
   "outputs": [
    {
     "data": {
      "text/plain": [
       "<generator object RunnableSequence.stream at 0x7eff0f867df0>"
      ]
     },
     "execution_count": 10,
     "metadata": {},
     "output_type": "execute_result"
    }
   ],
   "source": [
    "res"
   ]
  }
 ],
 "metadata": {
  "kernelspec": {
   "display_name": "llm",
   "language": "python",
   "name": "python3"
  },
  "language_info": {
   "codemirror_mode": {
    "name": "ipython",
    "version": 3
   },
   "file_extension": ".py",
   "mimetype": "text/x-python",
   "name": "python",
   "nbconvert_exporter": "python",
   "pygments_lexer": "ipython3",
   "version": "3.10.12"
  }
 },
 "nbformat": 4,
 "nbformat_minor": 2
}
